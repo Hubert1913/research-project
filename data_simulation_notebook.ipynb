{
 "cells": [
  {
   "cell_type": "code",
   "execution_count": 42,
   "metadata": {
    "collapsed": true
   },
   "outputs": [
    {
     "data": {
      "text/plain": "<module 'simulate_data' from 'C:\\\\Users\\\\huber\\\\OneDrive\\\\Dokumenty\\\\Delft\\\\RP\\\\code\\\\research-project\\\\simulate_data.py'>"
     },
     "execution_count": 42,
     "metadata": {},
     "output_type": "execute_result"
    }
   ],
   "source": [
    "import numpy as np\n",
    "import pandas as pd\n",
    "import importlib\n",
    "import simulate_data\n",
    "from matplotlib import pyplot as plt\n",
    "from sklearn.linear_model import LinearRegression\n",
    "from sklearn.ensemble import RandomForestRegressor\n",
    "from sklearn.metrics import mean_squared_error\n",
    "from econml.grf import CausalForest\n",
    "from econml.metalearners import SLearner, TLearner\n",
    "\n",
    "importlib.reload(simulate_data)"
   ]
  },
  {
   "cell_type": "code",
   "execution_count": 2,
   "outputs": [
    {
     "name": "stdout",
     "output_type": "stream",
     "text": [
      "(3941, 27)\n"
     ]
    },
    {
     "data": {
      "text/plain": "            id  mort_28  age sex  weight  height    pf_ratio         po2  \\\n0     32128372    False   75   F    93.0   168.0  241.944444  130.666667   \n1     34100191    False   47   M   127.0   183.0  166.356061  113.076923   \n2     38292466    False   85   M    77.5   170.0  224.000000  112.000000   \n3     32743332    False   85   M    90.7   170.0  205.714286   72.000000   \n4     35009126     True   64   M    70.0   183.0  173.777778   94.666667   \n...        ...      ...  ...  ..     ...     ...         ...         ...   \n3936  32959861     True   78   F    57.0   160.0  157.178571  136.833333   \n3937  32761676    False   75   M   101.0   178.0  179.909091   91.714286   \n3938  34058245     True   67   F   100.0   165.0  158.331733  104.250000   \n3939  34670930    False   68   M    94.7   163.0  192.500000   90.600000   \n3940  38978960     True   58   M    77.5   178.0  156.676768  119.666667   \n\n           pco2        ph  ...       fio2       hco3  heart_rate  \\\n0     28.111111  7.245556  ...  50.000000  12.000000  115.408163   \n1     34.461538  7.196923  ...  68.500000  12.750000  115.407407   \n2     38.000000  7.440000  ...  51.818182  23.000000   70.041667   \n3     38.000000  7.500000  ...  36.875000  27.000000   70.480000   \n4     38.666667  7.400000  ...  52.500000  21.666667   73.955556   \n...         ...       ...  ...        ...        ...         ...   \n3936  38.083333  7.370833  ...  65.454545  22.000000   95.785714   \n3937  39.000000  7.310000  ...  52.142857  17.600000   60.394737   \n3938  43.250000  7.292500  ...  77.142857  18.800000  122.041667   \n3939  40.400000  7.414000  ...  60.000000  23.500000   65.807692   \n3940  38.000000  7.486667  ...  60.769231  27.000000   84.666667   \n\n      minute_volume       peep  plateau_pressure  respiratory_rate  \\\n0          8.241111   8.777778         24.333333         18.943662   \n1         16.628571   7.375000         17.500000         19.857143   \n2          9.433333   5.000000         22.333333         15.833333   \n3          7.478571   5.000000         24.000000         18.200000   \n4          7.050000   5.428571         14.328571         15.016667   \n...             ...        ...               ...               ...   \n3936       8.511111   6.800000         22.000000         16.677419   \n3937       7.250000   5.000000         15.400000         16.795455   \n3938       8.813333  16.700000         30.333333         25.290323   \n3939       8.816667   9.166667         21.285714         21.531250   \n3940      10.085714   5.000000         17.400000         17.069767   \n\n      syst_blood_pressure  diastolic_blood_pressure  peep_regime  \n0              100.600000                 68.200000          low  \n1               99.000000                 68.000000          low  \n2              102.000000                 46.333333          low  \n3              108.083333                 46.208333          low  \n4              103.415094                 57.377358          low  \n...                   ...                       ...          ...  \n3936                  NaN                       NaN          low  \n3937                  NaN                       NaN          low  \n3938           101.789474                 59.631579         high  \n3939           158.000000                 83.500000          low  \n3940           104.636364                 58.272727          low  \n\n[3941 rows x 27 columns]",
      "text/html": "<div>\n<style scoped>\n    .dataframe tbody tr th:only-of-type {\n        vertical-align: middle;\n    }\n\n    .dataframe tbody tr th {\n        vertical-align: top;\n    }\n\n    .dataframe thead th {\n        text-align: right;\n    }\n</style>\n<table border=\"1\" class=\"dataframe\">\n  <thead>\n    <tr style=\"text-align: right;\">\n      <th></th>\n      <th>id</th>\n      <th>mort_28</th>\n      <th>age</th>\n      <th>sex</th>\n      <th>weight</th>\n      <th>height</th>\n      <th>pf_ratio</th>\n      <th>po2</th>\n      <th>pco2</th>\n      <th>ph</th>\n      <th>...</th>\n      <th>fio2</th>\n      <th>hco3</th>\n      <th>heart_rate</th>\n      <th>minute_volume</th>\n      <th>peep</th>\n      <th>plateau_pressure</th>\n      <th>respiratory_rate</th>\n      <th>syst_blood_pressure</th>\n      <th>diastolic_blood_pressure</th>\n      <th>peep_regime</th>\n    </tr>\n  </thead>\n  <tbody>\n    <tr>\n      <th>0</th>\n      <td>32128372</td>\n      <td>False</td>\n      <td>75</td>\n      <td>F</td>\n      <td>93.0</td>\n      <td>168.0</td>\n      <td>241.944444</td>\n      <td>130.666667</td>\n      <td>28.111111</td>\n      <td>7.245556</td>\n      <td>...</td>\n      <td>50.000000</td>\n      <td>12.000000</td>\n      <td>115.408163</td>\n      <td>8.241111</td>\n      <td>8.777778</td>\n      <td>24.333333</td>\n      <td>18.943662</td>\n      <td>100.600000</td>\n      <td>68.200000</td>\n      <td>low</td>\n    </tr>\n    <tr>\n      <th>1</th>\n      <td>34100191</td>\n      <td>False</td>\n      <td>47</td>\n      <td>M</td>\n      <td>127.0</td>\n      <td>183.0</td>\n      <td>166.356061</td>\n      <td>113.076923</td>\n      <td>34.461538</td>\n      <td>7.196923</td>\n      <td>...</td>\n      <td>68.500000</td>\n      <td>12.750000</td>\n      <td>115.407407</td>\n      <td>16.628571</td>\n      <td>7.375000</td>\n      <td>17.500000</td>\n      <td>19.857143</td>\n      <td>99.000000</td>\n      <td>68.000000</td>\n      <td>low</td>\n    </tr>\n    <tr>\n      <th>2</th>\n      <td>38292466</td>\n      <td>False</td>\n      <td>85</td>\n      <td>M</td>\n      <td>77.5</td>\n      <td>170.0</td>\n      <td>224.000000</td>\n      <td>112.000000</td>\n      <td>38.000000</td>\n      <td>7.440000</td>\n      <td>...</td>\n      <td>51.818182</td>\n      <td>23.000000</td>\n      <td>70.041667</td>\n      <td>9.433333</td>\n      <td>5.000000</td>\n      <td>22.333333</td>\n      <td>15.833333</td>\n      <td>102.000000</td>\n      <td>46.333333</td>\n      <td>low</td>\n    </tr>\n    <tr>\n      <th>3</th>\n      <td>32743332</td>\n      <td>False</td>\n      <td>85</td>\n      <td>M</td>\n      <td>90.7</td>\n      <td>170.0</td>\n      <td>205.714286</td>\n      <td>72.000000</td>\n      <td>38.000000</td>\n      <td>7.500000</td>\n      <td>...</td>\n      <td>36.875000</td>\n      <td>27.000000</td>\n      <td>70.480000</td>\n      <td>7.478571</td>\n      <td>5.000000</td>\n      <td>24.000000</td>\n      <td>18.200000</td>\n      <td>108.083333</td>\n      <td>46.208333</td>\n      <td>low</td>\n    </tr>\n    <tr>\n      <th>4</th>\n      <td>35009126</td>\n      <td>True</td>\n      <td>64</td>\n      <td>M</td>\n      <td>70.0</td>\n      <td>183.0</td>\n      <td>173.777778</td>\n      <td>94.666667</td>\n      <td>38.666667</td>\n      <td>7.400000</td>\n      <td>...</td>\n      <td>52.500000</td>\n      <td>21.666667</td>\n      <td>73.955556</td>\n      <td>7.050000</td>\n      <td>5.428571</td>\n      <td>14.328571</td>\n      <td>15.016667</td>\n      <td>103.415094</td>\n      <td>57.377358</td>\n      <td>low</td>\n    </tr>\n    <tr>\n      <th>...</th>\n      <td>...</td>\n      <td>...</td>\n      <td>...</td>\n      <td>...</td>\n      <td>...</td>\n      <td>...</td>\n      <td>...</td>\n      <td>...</td>\n      <td>...</td>\n      <td>...</td>\n      <td>...</td>\n      <td>...</td>\n      <td>...</td>\n      <td>...</td>\n      <td>...</td>\n      <td>...</td>\n      <td>...</td>\n      <td>...</td>\n      <td>...</td>\n      <td>...</td>\n      <td>...</td>\n    </tr>\n    <tr>\n      <th>3936</th>\n      <td>32959861</td>\n      <td>True</td>\n      <td>78</td>\n      <td>F</td>\n      <td>57.0</td>\n      <td>160.0</td>\n      <td>157.178571</td>\n      <td>136.833333</td>\n      <td>38.083333</td>\n      <td>7.370833</td>\n      <td>...</td>\n      <td>65.454545</td>\n      <td>22.000000</td>\n      <td>95.785714</td>\n      <td>8.511111</td>\n      <td>6.800000</td>\n      <td>22.000000</td>\n      <td>16.677419</td>\n      <td>NaN</td>\n      <td>NaN</td>\n      <td>low</td>\n    </tr>\n    <tr>\n      <th>3937</th>\n      <td>32761676</td>\n      <td>False</td>\n      <td>75</td>\n      <td>M</td>\n      <td>101.0</td>\n      <td>178.0</td>\n      <td>179.909091</td>\n      <td>91.714286</td>\n      <td>39.000000</td>\n      <td>7.310000</td>\n      <td>...</td>\n      <td>52.142857</td>\n      <td>17.600000</td>\n      <td>60.394737</td>\n      <td>7.250000</td>\n      <td>5.000000</td>\n      <td>15.400000</td>\n      <td>16.795455</td>\n      <td>NaN</td>\n      <td>NaN</td>\n      <td>low</td>\n    </tr>\n    <tr>\n      <th>3938</th>\n      <td>34058245</td>\n      <td>True</td>\n      <td>67</td>\n      <td>F</td>\n      <td>100.0</td>\n      <td>165.0</td>\n      <td>158.331733</td>\n      <td>104.250000</td>\n      <td>43.250000</td>\n      <td>7.292500</td>\n      <td>...</td>\n      <td>77.142857</td>\n      <td>18.800000</td>\n      <td>122.041667</td>\n      <td>8.813333</td>\n      <td>16.700000</td>\n      <td>30.333333</td>\n      <td>25.290323</td>\n      <td>101.789474</td>\n      <td>59.631579</td>\n      <td>high</td>\n    </tr>\n    <tr>\n      <th>3939</th>\n      <td>34670930</td>\n      <td>False</td>\n      <td>68</td>\n      <td>M</td>\n      <td>94.7</td>\n      <td>163.0</td>\n      <td>192.500000</td>\n      <td>90.600000</td>\n      <td>40.400000</td>\n      <td>7.414000</td>\n      <td>...</td>\n      <td>60.000000</td>\n      <td>23.500000</td>\n      <td>65.807692</td>\n      <td>8.816667</td>\n      <td>9.166667</td>\n      <td>21.285714</td>\n      <td>21.531250</td>\n      <td>158.000000</td>\n      <td>83.500000</td>\n      <td>low</td>\n    </tr>\n    <tr>\n      <th>3940</th>\n      <td>38978960</td>\n      <td>True</td>\n      <td>58</td>\n      <td>M</td>\n      <td>77.5</td>\n      <td>178.0</td>\n      <td>156.676768</td>\n      <td>119.666667</td>\n      <td>38.000000</td>\n      <td>7.486667</td>\n      <td>...</td>\n      <td>60.769231</td>\n      <td>27.000000</td>\n      <td>84.666667</td>\n      <td>10.085714</td>\n      <td>5.000000</td>\n      <td>17.400000</td>\n      <td>17.069767</td>\n      <td>104.636364</td>\n      <td>58.272727</td>\n      <td>low</td>\n    </tr>\n  </tbody>\n</table>\n<p>3941 rows × 27 columns</p>\n</div>"
     },
     "execution_count": 2,
     "metadata": {},
     "output_type": "execute_result"
    }
   ],
   "source": [
    "data = pd.read_csv(\"bsc_project_set.csv\", index_col=0)\n",
    "print(data.shape)\n",
    "data"
   ],
   "metadata": {
    "collapsed": false
   }
  },
  {
   "cell_type": "code",
   "execution_count": 3,
   "outputs": [
    {
     "data": {
      "text/plain": "      age sex  weight  height    pf_ratio         po2       pco2        ph  \\\n0      75   1    93.0   168.0  241.944444  130.666667  28.111111  7.245556   \n1      47   0   127.0   183.0  166.356061  113.076923  34.461538  7.196923   \n2      85   0    77.5   170.0  224.000000  112.000000  38.000000  7.440000   \n3      85   0    90.7   170.0  205.714286   72.000000  38.000000  7.500000   \n4      64   0    70.0   183.0  173.777778   94.666667  38.666667  7.400000   \n...   ...  ..     ...     ...         ...         ...        ...       ...   \n3936   78   1    57.0   160.0  157.178571  136.833333  38.083333  7.370833   \n3937   75   0   101.0   178.0  179.909091   91.714286  39.000000  7.310000   \n3938   67   1   100.0   165.0  158.331733  104.250000  43.250000  7.292500   \n3939   68   0    94.7   163.0  192.500000   90.600000  40.400000  7.414000   \n3940   58   0    77.5   178.0  156.676768  119.666667  38.000000  7.486667   \n\n      driving_pressure  lung_compliance  ...   platelets      urea       fio2  \\\n0            11.000000        31.227273  ...   83.000000   3.71280  50.000000   \n1             8.350000        79.780702  ...   19.600000  32.21925  68.500000   \n2            17.250000        33.338235  ...  124.500000  16.42200  51.818182   \n3            17.000000        26.882353  ...  200.000000  24.63300  36.875000   \n4             8.585714        52.821226  ...  513.666667   5.11700  52.500000   \n...                ...              ...  ...         ...       ...        ...   \n3936         16.400000        26.829268  ...  209.666667  14.63700  65.454545   \n3937         10.400000        42.412137  ...   78.200000  28.70280  52.142857   \n3938         13.200000        25.796667  ...  309.400000  15.06540  77.142857   \n3939         12.500000        33.805421  ...  151.200000   6.69375  60.000000   \n3940         13.000000        50.655067  ...  263.000000   7.67550  60.769231   \n\n           hco3  heart_rate  minute_volume  plateau_pressure  \\\n0     12.000000  115.408163       8.241111         24.333333   \n1     12.750000  115.407407      16.628571         17.500000   \n2     23.000000   70.041667       9.433333         22.333333   \n3     27.000000   70.480000       7.478571         24.000000   \n4     21.666667   73.955556       7.050000         14.328571   \n...         ...         ...            ...               ...   \n3936  22.000000   95.785714       8.511111         22.000000   \n3937  17.600000   60.394737       7.250000         15.400000   \n3938  18.800000  122.041667       8.813333         30.333333   \n3939  23.500000   65.807692       8.816667         21.285714   \n3940  27.000000   84.666667      10.085714         17.400000   \n\n      respiratory_rate  syst_blood_pressure  diastolic_blood_pressure  \n0            18.943662           100.600000                 68.200000  \n1            19.857143            99.000000                 68.000000  \n2            15.833333           102.000000                 46.333333  \n3            18.200000           108.083333                 46.208333  \n4            15.016667           103.415094                 57.377358  \n...                ...                  ...                       ...  \n3936         16.677419                  NaN                       NaN  \n3937         16.795455                  NaN                       NaN  \n3938         25.290323           101.789474                 59.631579  \n3939         21.531250           158.000000                 83.500000  \n3940         17.069767           104.636364                 58.272727  \n\n[3941 rows x 23 columns]",
      "text/html": "<div>\n<style scoped>\n    .dataframe tbody tr th:only-of-type {\n        vertical-align: middle;\n    }\n\n    .dataframe tbody tr th {\n        vertical-align: top;\n    }\n\n    .dataframe thead th {\n        text-align: right;\n    }\n</style>\n<table border=\"1\" class=\"dataframe\">\n  <thead>\n    <tr style=\"text-align: right;\">\n      <th></th>\n      <th>age</th>\n      <th>sex</th>\n      <th>weight</th>\n      <th>height</th>\n      <th>pf_ratio</th>\n      <th>po2</th>\n      <th>pco2</th>\n      <th>ph</th>\n      <th>driving_pressure</th>\n      <th>lung_compliance</th>\n      <th>...</th>\n      <th>platelets</th>\n      <th>urea</th>\n      <th>fio2</th>\n      <th>hco3</th>\n      <th>heart_rate</th>\n      <th>minute_volume</th>\n      <th>plateau_pressure</th>\n      <th>respiratory_rate</th>\n      <th>syst_blood_pressure</th>\n      <th>diastolic_blood_pressure</th>\n    </tr>\n  </thead>\n  <tbody>\n    <tr>\n      <th>0</th>\n      <td>75</td>\n      <td>1</td>\n      <td>93.0</td>\n      <td>168.0</td>\n      <td>241.944444</td>\n      <td>130.666667</td>\n      <td>28.111111</td>\n      <td>7.245556</td>\n      <td>11.000000</td>\n      <td>31.227273</td>\n      <td>...</td>\n      <td>83.000000</td>\n      <td>3.71280</td>\n      <td>50.000000</td>\n      <td>12.000000</td>\n      <td>115.408163</td>\n      <td>8.241111</td>\n      <td>24.333333</td>\n      <td>18.943662</td>\n      <td>100.600000</td>\n      <td>68.200000</td>\n    </tr>\n    <tr>\n      <th>1</th>\n      <td>47</td>\n      <td>0</td>\n      <td>127.0</td>\n      <td>183.0</td>\n      <td>166.356061</td>\n      <td>113.076923</td>\n      <td>34.461538</td>\n      <td>7.196923</td>\n      <td>8.350000</td>\n      <td>79.780702</td>\n      <td>...</td>\n      <td>19.600000</td>\n      <td>32.21925</td>\n      <td>68.500000</td>\n      <td>12.750000</td>\n      <td>115.407407</td>\n      <td>16.628571</td>\n      <td>17.500000</td>\n      <td>19.857143</td>\n      <td>99.000000</td>\n      <td>68.000000</td>\n    </tr>\n    <tr>\n      <th>2</th>\n      <td>85</td>\n      <td>0</td>\n      <td>77.5</td>\n      <td>170.0</td>\n      <td>224.000000</td>\n      <td>112.000000</td>\n      <td>38.000000</td>\n      <td>7.440000</td>\n      <td>17.250000</td>\n      <td>33.338235</td>\n      <td>...</td>\n      <td>124.500000</td>\n      <td>16.42200</td>\n      <td>51.818182</td>\n      <td>23.000000</td>\n      <td>70.041667</td>\n      <td>9.433333</td>\n      <td>22.333333</td>\n      <td>15.833333</td>\n      <td>102.000000</td>\n      <td>46.333333</td>\n    </tr>\n    <tr>\n      <th>3</th>\n      <td>85</td>\n      <td>0</td>\n      <td>90.7</td>\n      <td>170.0</td>\n      <td>205.714286</td>\n      <td>72.000000</td>\n      <td>38.000000</td>\n      <td>7.500000</td>\n      <td>17.000000</td>\n      <td>26.882353</td>\n      <td>...</td>\n      <td>200.000000</td>\n      <td>24.63300</td>\n      <td>36.875000</td>\n      <td>27.000000</td>\n      <td>70.480000</td>\n      <td>7.478571</td>\n      <td>24.000000</td>\n      <td>18.200000</td>\n      <td>108.083333</td>\n      <td>46.208333</td>\n    </tr>\n    <tr>\n      <th>4</th>\n      <td>64</td>\n      <td>0</td>\n      <td>70.0</td>\n      <td>183.0</td>\n      <td>173.777778</td>\n      <td>94.666667</td>\n      <td>38.666667</td>\n      <td>7.400000</td>\n      <td>8.585714</td>\n      <td>52.821226</td>\n      <td>...</td>\n      <td>513.666667</td>\n      <td>5.11700</td>\n      <td>52.500000</td>\n      <td>21.666667</td>\n      <td>73.955556</td>\n      <td>7.050000</td>\n      <td>14.328571</td>\n      <td>15.016667</td>\n      <td>103.415094</td>\n      <td>57.377358</td>\n    </tr>\n    <tr>\n      <th>...</th>\n      <td>...</td>\n      <td>...</td>\n      <td>...</td>\n      <td>...</td>\n      <td>...</td>\n      <td>...</td>\n      <td>...</td>\n      <td>...</td>\n      <td>...</td>\n      <td>...</td>\n      <td>...</td>\n      <td>...</td>\n      <td>...</td>\n      <td>...</td>\n      <td>...</td>\n      <td>...</td>\n      <td>...</td>\n      <td>...</td>\n      <td>...</td>\n      <td>...</td>\n      <td>...</td>\n    </tr>\n    <tr>\n      <th>3936</th>\n      <td>78</td>\n      <td>1</td>\n      <td>57.0</td>\n      <td>160.0</td>\n      <td>157.178571</td>\n      <td>136.833333</td>\n      <td>38.083333</td>\n      <td>7.370833</td>\n      <td>16.400000</td>\n      <td>26.829268</td>\n      <td>...</td>\n      <td>209.666667</td>\n      <td>14.63700</td>\n      <td>65.454545</td>\n      <td>22.000000</td>\n      <td>95.785714</td>\n      <td>8.511111</td>\n      <td>22.000000</td>\n      <td>16.677419</td>\n      <td>NaN</td>\n      <td>NaN</td>\n    </tr>\n    <tr>\n      <th>3937</th>\n      <td>75</td>\n      <td>0</td>\n      <td>101.0</td>\n      <td>178.0</td>\n      <td>179.909091</td>\n      <td>91.714286</td>\n      <td>39.000000</td>\n      <td>7.310000</td>\n      <td>10.400000</td>\n      <td>42.412137</td>\n      <td>...</td>\n      <td>78.200000</td>\n      <td>28.70280</td>\n      <td>52.142857</td>\n      <td>17.600000</td>\n      <td>60.394737</td>\n      <td>7.250000</td>\n      <td>15.400000</td>\n      <td>16.795455</td>\n      <td>NaN</td>\n      <td>NaN</td>\n    </tr>\n    <tr>\n      <th>3938</th>\n      <td>67</td>\n      <td>1</td>\n      <td>100.0</td>\n      <td>165.0</td>\n      <td>158.331733</td>\n      <td>104.250000</td>\n      <td>43.250000</td>\n      <td>7.292500</td>\n      <td>13.200000</td>\n      <td>25.796667</td>\n      <td>...</td>\n      <td>309.400000</td>\n      <td>15.06540</td>\n      <td>77.142857</td>\n      <td>18.800000</td>\n      <td>122.041667</td>\n      <td>8.813333</td>\n      <td>30.333333</td>\n      <td>25.290323</td>\n      <td>101.789474</td>\n      <td>59.631579</td>\n    </tr>\n    <tr>\n      <th>3939</th>\n      <td>68</td>\n      <td>0</td>\n      <td>94.7</td>\n      <td>163.0</td>\n      <td>192.500000</td>\n      <td>90.600000</td>\n      <td>40.400000</td>\n      <td>7.414000</td>\n      <td>12.500000</td>\n      <td>33.805421</td>\n      <td>...</td>\n      <td>151.200000</td>\n      <td>6.69375</td>\n      <td>60.000000</td>\n      <td>23.500000</td>\n      <td>65.807692</td>\n      <td>8.816667</td>\n      <td>21.285714</td>\n      <td>21.531250</td>\n      <td>158.000000</td>\n      <td>83.500000</td>\n    </tr>\n    <tr>\n      <th>3940</th>\n      <td>58</td>\n      <td>0</td>\n      <td>77.5</td>\n      <td>178.0</td>\n      <td>156.676768</td>\n      <td>119.666667</td>\n      <td>38.000000</td>\n      <td>7.486667</td>\n      <td>13.000000</td>\n      <td>50.655067</td>\n      <td>...</td>\n      <td>263.000000</td>\n      <td>7.67550</td>\n      <td>60.769231</td>\n      <td>27.000000</td>\n      <td>84.666667</td>\n      <td>10.085714</td>\n      <td>17.400000</td>\n      <td>17.069767</td>\n      <td>104.636364</td>\n      <td>58.272727</td>\n    </tr>\n  </tbody>\n</table>\n<p>3941 rows × 23 columns</p>\n</div>"
     },
     "execution_count": 3,
     "metadata": {},
     "output_type": "execute_result"
    }
   ],
   "source": [
    "xs = data.copy()\n",
    "\n",
    "y = xs[\"mort_28\"]\n",
    "w = xs[\"peep_regime\"]\n",
    "\n",
    "# w.loc[w == \"low\"] = 0\n",
    "# w.loc[w[\"peep_regime\"] == \"high\", \"peep_regime\"] = 1\n",
    "# w = w.replace(to_replace=[\"low\", \"high\"], value=[0, 1])\n",
    "w = pd.Series(map(lambda x: 0 if x == \"low\" else 1, w))\n",
    "\n",
    "xs = xs.drop(columns=[\"id\", \"mort_28\", \"peep\", \"peep_regime\"])\n",
    "\n",
    "xs.loc[xs[\"sex\"] == \"M\", \"sex\"] = 0\n",
    "xs.loc[xs[\"sex\"] == \"F\", \"sex\"] = 1\n",
    "# xs[\"sex\"] = xs[\"sex\"].replace({\"M\": 0, \"F\": 1})\n",
    "\n",
    "# data2 = data[\"sex\"].replace({\"M\": 0, \"F\": 1})\n",
    "# data2\n",
    "\n",
    "xs"
   ],
   "metadata": {
    "collapsed": false
   }
  },
  {
   "cell_type": "code",
   "execution_count": 4,
   "outputs": [
    {
     "data": {
      "text/plain": "0       False\n1       False\n2       False\n3       False\n4        True\n        ...  \n3936     True\n3937    False\n3938     True\n3939    False\n3940     True\nName: mort_28, Length: 3941, dtype: bool"
     },
     "execution_count": 4,
     "metadata": {},
     "output_type": "execute_result"
    }
   ],
   "source": [
    "y"
   ],
   "metadata": {
    "collapsed": false
   }
  },
  {
   "cell_type": "code",
   "execution_count": 5,
   "outputs": [
    {
     "data": {
      "text/plain": "0       0\n1       0\n2       0\n3       0\n4       0\n       ..\n3936    0\n3937    0\n3938    1\n3939    0\n3940    0\nLength: 3941, dtype: int64"
     },
     "execution_count": 5,
     "metadata": {},
     "output_type": "execute_result"
    }
   ],
   "source": [
    "w"
   ],
   "metadata": {
    "collapsed": false
   }
  },
  {
   "cell_type": "markdown",
   "source": [
    "# Example Simulation\n",
    "Balanced case with simple CATE"
   ],
   "metadata": {
    "collapsed": false
   }
  },
  {
   "cell_type": "code",
   "execution_count": 37,
   "outputs": [
    {
     "name": "stdout",
     "output_type": "stream",
     "text": [
      "-3.519063896657287\n"
     ]
    },
    {
     "data": {
      "text/plain": "             0         1         2         3         4\n0     0.244733  0.589970 -0.065744 -1.193720  1.708224\n1    -1.210075  0.020499 -1.560494  0.023123 -0.107883\n2    -0.451281  0.789094  0.713983 -0.709256  0.489267\n3     0.973322 -0.322073  1.961650 -0.307863 -0.464946\n4    -0.464968  0.331727  0.078946 -0.800991  1.084369\n...        ...       ...       ...       ...       ...\n2542 -0.135795  0.448661  0.329991  1.182578 -0.421509\n2543  0.851469  0.394094 -2.433262 -1.690468  0.456063\n2544 -1.803237  0.109214 -1.242796  1.367979 -0.132480\n2545 -0.806549 -1.141055 -0.474083  0.556109  1.648112\n2546 -0.842046 -0.803141  0.676548 -0.246625 -1.579958\n\n[2547 rows x 5 columns]",
      "text/html": "<div>\n<style scoped>\n    .dataframe tbody tr th:only-of-type {\n        vertical-align: middle;\n    }\n\n    .dataframe tbody tr th {\n        vertical-align: top;\n    }\n\n    .dataframe thead th {\n        text-align: right;\n    }\n</style>\n<table border=\"1\" class=\"dataframe\">\n  <thead>\n    <tr style=\"text-align: right;\">\n      <th></th>\n      <th>0</th>\n      <th>1</th>\n      <th>2</th>\n      <th>3</th>\n      <th>4</th>\n    </tr>\n  </thead>\n  <tbody>\n    <tr>\n      <th>0</th>\n      <td>0.244733</td>\n      <td>0.589970</td>\n      <td>-0.065744</td>\n      <td>-1.193720</td>\n      <td>1.708224</td>\n    </tr>\n    <tr>\n      <th>1</th>\n      <td>-1.210075</td>\n      <td>0.020499</td>\n      <td>-1.560494</td>\n      <td>0.023123</td>\n      <td>-0.107883</td>\n    </tr>\n    <tr>\n      <th>2</th>\n      <td>-0.451281</td>\n      <td>0.789094</td>\n      <td>0.713983</td>\n      <td>-0.709256</td>\n      <td>0.489267</td>\n    </tr>\n    <tr>\n      <th>3</th>\n      <td>0.973322</td>\n      <td>-0.322073</td>\n      <td>1.961650</td>\n      <td>-0.307863</td>\n      <td>-0.464946</td>\n    </tr>\n    <tr>\n      <th>4</th>\n      <td>-0.464968</td>\n      <td>0.331727</td>\n      <td>0.078946</td>\n      <td>-0.800991</td>\n      <td>1.084369</td>\n    </tr>\n    <tr>\n      <th>...</th>\n      <td>...</td>\n      <td>...</td>\n      <td>...</td>\n      <td>...</td>\n      <td>...</td>\n    </tr>\n    <tr>\n      <th>2542</th>\n      <td>-0.135795</td>\n      <td>0.448661</td>\n      <td>0.329991</td>\n      <td>1.182578</td>\n      <td>-0.421509</td>\n    </tr>\n    <tr>\n      <th>2543</th>\n      <td>0.851469</td>\n      <td>0.394094</td>\n      <td>-2.433262</td>\n      <td>-1.690468</td>\n      <td>0.456063</td>\n    </tr>\n    <tr>\n      <th>2544</th>\n      <td>-1.803237</td>\n      <td>0.109214</td>\n      <td>-1.242796</td>\n      <td>1.367979</td>\n      <td>-0.132480</td>\n    </tr>\n    <tr>\n      <th>2545</th>\n      <td>-0.806549</td>\n      <td>-1.141055</td>\n      <td>-0.474083</td>\n      <td>0.556109</td>\n      <td>1.648112</td>\n    </tr>\n    <tr>\n      <th>2546</th>\n      <td>-0.842046</td>\n      <td>-0.803141</td>\n      <td>0.676548</td>\n      <td>-0.246625</td>\n      <td>-1.579958</td>\n    </tr>\n  </tbody>\n</table>\n<p>2547 rows × 5 columns</p>\n</div>"
     },
     "execution_count": 37,
     "metadata": {},
     "output_type": "execute_result"
    }
   ],
   "source": [
    "e = lambda x: 0.5\n",
    "d = 5\n",
    "weights = np.random.uniform(-5, 5, d)\n",
    "mu_0 = lambda x: np.dot(x, weights) #+ 5 * (1 if x[0] > 0.5 else 0)\n",
    "mu_1 = lambda x: mu_0(x) + 20 #+ 8 * (1 if x[1] > 0.5 else 0)\n",
    "n = 5000\n",
    "\n",
    "sim = pd.DataFrame(simulate_data.get_training_set(d, mu_0, mu_1, e, n))\n",
    "# sim_x = list(map(lambda a: a[\"X\"], sim))\n",
    "# sim_w = list(map(lambda a: a[\"W\"], sim))\n",
    "sim_y = sim[\"Y\"]\n",
    "sim_w = sim[\"W\"]\n",
    "sim_x = pd.DataFrame(sim[\"X\"].tolist(), index = sim.index)\n",
    "sim_x.columns = sim_x.columns.astype(str)\n",
    "sim_x_s = sim_x.assign(W=pd.Series(sim[\"W\"]).values)\n",
    "\n",
    "sim_x_t_0 = pd.DataFrame(sim.query(\"W==0\")[\"X\"].tolist())\n",
    "sim_x_t_0.columns = sim_x_t_0.columns.astype(str)\n",
    "sim_x_t_1 = pd.DataFrame(sim.query(\"W==1\")[\"X\"].tolist())\n",
    "sim_x_t_1.columns = sim_x_t_1.columns.astype(str)\n",
    "# sim_x_s.columns = sim_x_s.columns.astype(str)\n",
    "# sim_x_s = sim.apply(lambda x: np.append(x[\"X\"], x[\"W\"]), axis=1).to_list()\n",
    "# sim_x_s\n",
    "print(sim_y[0])\n",
    "# sim_x_s\n",
    "# sim_x_s.values.tolist()\n",
    "sim_x_t_0\n",
    "# sim_x_t_1"
   ],
   "metadata": {
    "collapsed": false
   }
  },
  {
   "cell_type": "markdown",
   "source": [
    "## S-learner"
   ],
   "metadata": {
    "collapsed": false
   }
  },
  {
   "cell_type": "code",
   "execution_count": 38,
   "outputs": [
    {
     "name": "stdout",
     "output_type": "stream",
     "text": [
      "-3.3042273797105137\n"
     ]
    },
    {
     "data": {
      "text/plain": "0.23061822947079771"
     },
     "execution_count": 38,
     "metadata": {},
     "output_type": "execute_result"
    }
   ],
   "source": [
    "# regr = RandomForestRegressor(n_estimators=30, min_samples_split=10)\n",
    "regr = RandomForestRegressor()\n",
    "# regr = LinearRegression()\n",
    "# sim_x_s = list(map(lambda a: np.append(a[0], a[1]), zip(sim_x, sim_w)))\n",
    "regr.fit(sim_x_s, sim_y)\n",
    "\n",
    "y_fitted = regr.predict(sim_x_s)\n",
    "print(y_fitted[0])\n",
    "mean_squared_error(sim_y, y_fitted)"
   ],
   "metadata": {
    "collapsed": false
   }
  },
  {
   "cell_type": "code",
   "execution_count": 39,
   "outputs": [
    {
     "data": {
      "text/plain": "1.5177300971948757"
     },
     "execution_count": 39,
     "metadata": {},
     "output_type": "execute_result"
    }
   ],
   "source": [
    "sim_test = pd.DataFrame(simulate_data.get_test_set(d, mu_0, mu_1, e, 1000))\n",
    "\n",
    "sim_test_x = pd.DataFrame(sim_test[\"X\"].tolist(), index=sim_test.index)\n",
    "sim_test_x.columns = sim_test_x.columns.astype(str)\n",
    "\n",
    "# test_sim_x_0 = sim_test.apply(lambda x: np.append(x[\"X\"], 0), axis=1).to_list()\n",
    "test_sim_x_0 = sim_test_x.assign(**{\"W\": 0})\n",
    "# test_sim_x_1 = sim_test.apply(lambda x: np.append(x[\"X\"], 1), axis=1).to_list()\n",
    "test_sim_x_1 = sim_test_x.assign(**{\"W\": 1})\n",
    "test_sim_y = np.append(sim_test[\"Y0\"], sim_test[\"Y1\"])\n",
    "# test_sim_x_0\n",
    "\n",
    "y_test_pred = regr.predict(pd.concat([test_sim_x_0, test_sim_x_1]))\n",
    "mean_squared_error(test_sim_y, y_test_pred)\n",
    "\n",
    "# test_sim_x_0\n",
    "\n",
    "# sim_test_x\n",
    "# test_sim_x_0\n",
    "# sim_test"
   ],
   "metadata": {
    "collapsed": false
   }
  },
  {
   "cell_type": "code",
   "execution_count": 20,
   "outputs": [],
   "source": [
    "def sensitivity(data, y, t):\n",
    "        # line coeficient for the one variable linear regression\n",
    "        return (np.sum((data[t] - data[t].mean())*(data[y] - data[y].mean())) /\n",
    "                np.sum((data[t] - data[t].mean())**2))\n",
    "\n",
    "def cumulative_gain(dataset, prediction, y, t, min_periods=30, steps=100):\n",
    "    size = dataset.shape[0]\n",
    "    ordered_df = dataset.sort_values(prediction, ascending=False).reset_index(drop=True)\n",
    "    n_rows = list(range(min_periods, size, size // steps)) + [size]\n",
    "\n",
    "    ## add (rows/size) as a normalizer.\n",
    "    return np.array([sensitivity(ordered_df.head(rows), y, t) * (rows/size) for rows in n_rows])"
   ],
   "metadata": {
    "collapsed": false
   }
  },
  {
   "cell_type": "code",
   "execution_count": 21,
   "outputs": [],
   "source": [
    "s_learner_cate_train = (regr.predict(sim_x.assign(**{\"W\": 1})) -\n",
    "                        regr.predict(sim_x.assign(**{\"W\": 0})))\n",
    "\n",
    "s_learner_cate_test = sim_test_x.assign(\n",
    "    cate=(regr.predict(sim_test_x.assign(**{\"W\": 1})) - # predict under treatment\n",
    "          regr.predict(sim_test_x.assign(**{\"W\": 0}))) # predict under control\n",
    ")"
   ],
   "metadata": {
    "collapsed": false
   }
  },
  {
   "cell_type": "code",
   "execution_count": 22,
   "outputs": [
    {
     "data": {
      "text/plain": "            0         1         2         3         4       cate\n0    0.335375 -0.444512  0.574506  2.387989  0.547472  19.527294\n1    0.001389 -0.720202 -0.301605 -0.440492 -0.515836  20.461822\n2   -0.941319  0.522885 -0.584281  0.592234  0.303215  19.576277\n3   -1.127343 -0.062090 -0.342199 -0.182807 -0.551073  20.515316\n4   -0.026548  0.130662 -1.486043 -0.070988  0.185261  19.691943\n..        ...       ...       ...       ...       ...        ...\n995  0.224643 -1.197938 -0.283342  1.964455 -0.119721  18.886241\n996 -0.028380 -0.894758  1.414400 -0.290796 -0.610972  20.314730\n997 -0.052130  0.960327 -0.294072  1.014329 -1.294869  21.131894\n998 -0.244870  0.158720 -1.103358  0.675544 -0.328981  20.257205\n999  0.756789 -0.813341  1.076602 -0.366959  0.350549  19.623542\n\n[1000 rows x 6 columns]",
      "text/html": "<div>\n<style scoped>\n    .dataframe tbody tr th:only-of-type {\n        vertical-align: middle;\n    }\n\n    .dataframe tbody tr th {\n        vertical-align: top;\n    }\n\n    .dataframe thead th {\n        text-align: right;\n    }\n</style>\n<table border=\"1\" class=\"dataframe\">\n  <thead>\n    <tr style=\"text-align: right;\">\n      <th></th>\n      <th>0</th>\n      <th>1</th>\n      <th>2</th>\n      <th>3</th>\n      <th>4</th>\n      <th>cate</th>\n    </tr>\n  </thead>\n  <tbody>\n    <tr>\n      <th>0</th>\n      <td>0.335375</td>\n      <td>-0.444512</td>\n      <td>0.574506</td>\n      <td>2.387989</td>\n      <td>0.547472</td>\n      <td>19.527294</td>\n    </tr>\n    <tr>\n      <th>1</th>\n      <td>0.001389</td>\n      <td>-0.720202</td>\n      <td>-0.301605</td>\n      <td>-0.440492</td>\n      <td>-0.515836</td>\n      <td>20.461822</td>\n    </tr>\n    <tr>\n      <th>2</th>\n      <td>-0.941319</td>\n      <td>0.522885</td>\n      <td>-0.584281</td>\n      <td>0.592234</td>\n      <td>0.303215</td>\n      <td>19.576277</td>\n    </tr>\n    <tr>\n      <th>3</th>\n      <td>-1.127343</td>\n      <td>-0.062090</td>\n      <td>-0.342199</td>\n      <td>-0.182807</td>\n      <td>-0.551073</td>\n      <td>20.515316</td>\n    </tr>\n    <tr>\n      <th>4</th>\n      <td>-0.026548</td>\n      <td>0.130662</td>\n      <td>-1.486043</td>\n      <td>-0.070988</td>\n      <td>0.185261</td>\n      <td>19.691943</td>\n    </tr>\n    <tr>\n      <th>...</th>\n      <td>...</td>\n      <td>...</td>\n      <td>...</td>\n      <td>...</td>\n      <td>...</td>\n      <td>...</td>\n    </tr>\n    <tr>\n      <th>995</th>\n      <td>0.224643</td>\n      <td>-1.197938</td>\n      <td>-0.283342</td>\n      <td>1.964455</td>\n      <td>-0.119721</td>\n      <td>18.886241</td>\n    </tr>\n    <tr>\n      <th>996</th>\n      <td>-0.028380</td>\n      <td>-0.894758</td>\n      <td>1.414400</td>\n      <td>-0.290796</td>\n      <td>-0.610972</td>\n      <td>20.314730</td>\n    </tr>\n    <tr>\n      <th>997</th>\n      <td>-0.052130</td>\n      <td>0.960327</td>\n      <td>-0.294072</td>\n      <td>1.014329</td>\n      <td>-1.294869</td>\n      <td>21.131894</td>\n    </tr>\n    <tr>\n      <th>998</th>\n      <td>-0.244870</td>\n      <td>0.158720</td>\n      <td>-1.103358</td>\n      <td>0.675544</td>\n      <td>-0.328981</td>\n      <td>20.257205</td>\n    </tr>\n    <tr>\n      <th>999</th>\n      <td>0.756789</td>\n      <td>-0.813341</td>\n      <td>1.076602</td>\n      <td>-0.366959</td>\n      <td>0.350549</td>\n      <td>19.623542</td>\n    </tr>\n  </tbody>\n</table>\n<p>1000 rows × 6 columns</p>\n</div>"
     },
     "execution_count": 22,
     "metadata": {},
     "output_type": "execute_result"
    }
   ],
   "source": [
    "s_learner_cate_test"
   ],
   "metadata": {
    "collapsed": false
   }
  },
  {
   "cell_type": "code",
   "execution_count": 62,
   "outputs": [],
   "source": [
    "# gain_curve_test = cumulative_gain(s_learner_cate_test.assign(**{\"W\": sim_test[\"W\"], \"Y\": sim_test[\"Y\"]}), \"cate\", y=\"Y\", t=\"W\")\n",
    "# gain_curve_train = cumulative_gain(sim_x.assign(cate=s_learner_cate_train, W=sim[\"W\"], Y=sim[\"Y\"]), \"cate\", y=\"Y\", t=\"W\")\n",
    "# plt.plot(gain_curve_test, color=\"C0\", label=\"Test\")\n",
    "# plt.plot(gain_curve_train, color=\"C1\", label=\"Train\")\n",
    "# # plt.plot([0, 100], [0, elast(test, \"converted\", \"em1\")], linestyle=\"--\", color=\"black\", label=\"Baseline\")\n",
    "# plt.plot([0, 100], [0, sensitivity(s_learner_cate_test.assign(**{\"W\": sim_test[\"W\"], \"Y\": sim_test[\"Y\"]}), \"Y\", \"W\")], linestyle=\"--\", color=\"black\", label=\"Baseline\")\n",
    "# plt.legend()\n",
    "# plt.title(\"S-Learner\");"
   ],
   "metadata": {
    "collapsed": false
   }
  },
  {
   "cell_type": "code",
   "execution_count": 23,
   "outputs": [
    {
     "data": {
      "text/plain": "0.7284567874224736"
     },
     "execution_count": 23,
     "metadata": {},
     "output_type": "execute_result"
    }
   ],
   "source": [
    "mean_squared_error(s_learner_cate_test.cate, sim_test.Y1 - sim_test.Y0)\n",
    "# s_learner_cate_test\n",
    "# sim_test.Y1 - sim_test.Y0"
   ],
   "metadata": {
    "collapsed": false
   }
  },
  {
   "cell_type": "markdown",
   "source": [
    "# T-learner"
   ],
   "metadata": {
    "collapsed": false
   }
  },
  {
   "cell_type": "code",
   "execution_count": 24,
   "outputs": [],
   "source": [
    "regr0 = RandomForestRegressor()\n",
    "regr1 = RandomForestRegressor()\n",
    "\n",
    "regr0.fit(sim_x_t_0, sim.query(\"W==0\")[\"Y\"])\n",
    "regr1.fit(sim_x_t_1, sim.query(\"W==1\")[\"Y\"])\n",
    "\n",
    "t_learner_cate_train = regr1.predict(sim_x) - regr0.predict(sim_x)\n",
    "t_learner_cate_test = sim_test_x.assign(cate=regr1.predict(sim_test_x) - regr0.predict(sim_test_x))"
   ],
   "metadata": {
    "collapsed": false
   }
  },
  {
   "cell_type": "code",
   "execution_count": 25,
   "outputs": [
    {
     "data": {
      "text/plain": "            0         1         2         3         4       cate\n0    0.335375 -0.444512  0.574506  2.387989  0.547472  19.755996\n1    0.001389 -0.720202 -0.301605 -0.440492 -0.515836  20.400462\n2   -0.941319  0.522885 -0.584281  0.592234  0.303215  19.577074\n3   -1.127343 -0.062090 -0.342199 -0.182807 -0.551073  20.107031\n4   -0.026548  0.130662 -1.486043 -0.070988  0.185261  19.387881\n..        ...       ...       ...       ...       ...        ...\n995  0.224643 -1.197938 -0.283342  1.964455 -0.119721  18.918116\n996 -0.028380 -0.894758  1.414400 -0.290796 -0.610972  20.292230\n997 -0.052130  0.960327 -0.294072  1.014329 -1.294869  21.605646\n998 -0.244870  0.158720 -1.103358  0.675544 -0.328981  20.993597\n999  0.756789 -0.813341  1.076602 -0.366959  0.350549  19.994017\n\n[1000 rows x 6 columns]",
      "text/html": "<div>\n<style scoped>\n    .dataframe tbody tr th:only-of-type {\n        vertical-align: middle;\n    }\n\n    .dataframe tbody tr th {\n        vertical-align: top;\n    }\n\n    .dataframe thead th {\n        text-align: right;\n    }\n</style>\n<table border=\"1\" class=\"dataframe\">\n  <thead>\n    <tr style=\"text-align: right;\">\n      <th></th>\n      <th>0</th>\n      <th>1</th>\n      <th>2</th>\n      <th>3</th>\n      <th>4</th>\n      <th>cate</th>\n    </tr>\n  </thead>\n  <tbody>\n    <tr>\n      <th>0</th>\n      <td>0.335375</td>\n      <td>-0.444512</td>\n      <td>0.574506</td>\n      <td>2.387989</td>\n      <td>0.547472</td>\n      <td>19.755996</td>\n    </tr>\n    <tr>\n      <th>1</th>\n      <td>0.001389</td>\n      <td>-0.720202</td>\n      <td>-0.301605</td>\n      <td>-0.440492</td>\n      <td>-0.515836</td>\n      <td>20.400462</td>\n    </tr>\n    <tr>\n      <th>2</th>\n      <td>-0.941319</td>\n      <td>0.522885</td>\n      <td>-0.584281</td>\n      <td>0.592234</td>\n      <td>0.303215</td>\n      <td>19.577074</td>\n    </tr>\n    <tr>\n      <th>3</th>\n      <td>-1.127343</td>\n      <td>-0.062090</td>\n      <td>-0.342199</td>\n      <td>-0.182807</td>\n      <td>-0.551073</td>\n      <td>20.107031</td>\n    </tr>\n    <tr>\n      <th>4</th>\n      <td>-0.026548</td>\n      <td>0.130662</td>\n      <td>-1.486043</td>\n      <td>-0.070988</td>\n      <td>0.185261</td>\n      <td>19.387881</td>\n    </tr>\n    <tr>\n      <th>...</th>\n      <td>...</td>\n      <td>...</td>\n      <td>...</td>\n      <td>...</td>\n      <td>...</td>\n      <td>...</td>\n    </tr>\n    <tr>\n      <th>995</th>\n      <td>0.224643</td>\n      <td>-1.197938</td>\n      <td>-0.283342</td>\n      <td>1.964455</td>\n      <td>-0.119721</td>\n      <td>18.918116</td>\n    </tr>\n    <tr>\n      <th>996</th>\n      <td>-0.028380</td>\n      <td>-0.894758</td>\n      <td>1.414400</td>\n      <td>-0.290796</td>\n      <td>-0.610972</td>\n      <td>20.292230</td>\n    </tr>\n    <tr>\n      <th>997</th>\n      <td>-0.052130</td>\n      <td>0.960327</td>\n      <td>-0.294072</td>\n      <td>1.014329</td>\n      <td>-1.294869</td>\n      <td>21.605646</td>\n    </tr>\n    <tr>\n      <th>998</th>\n      <td>-0.244870</td>\n      <td>0.158720</td>\n      <td>-1.103358</td>\n      <td>0.675544</td>\n      <td>-0.328981</td>\n      <td>20.993597</td>\n    </tr>\n    <tr>\n      <th>999</th>\n      <td>0.756789</td>\n      <td>-0.813341</td>\n      <td>1.076602</td>\n      <td>-0.366959</td>\n      <td>0.350549</td>\n      <td>19.994017</td>\n    </tr>\n  </tbody>\n</table>\n<p>1000 rows × 6 columns</p>\n</div>"
     },
     "execution_count": 25,
     "metadata": {},
     "output_type": "execute_result"
    }
   ],
   "source": [
    "t_learner_cate_test"
   ],
   "metadata": {
    "collapsed": false
   }
  },
  {
   "cell_type": "code",
   "execution_count": 26,
   "outputs": [
    {
     "data": {
      "text/plain": "0.7465798618716428"
     },
     "execution_count": 26,
     "metadata": {},
     "output_type": "execute_result"
    }
   ],
   "source": [
    "mean_squared_error(t_learner_cate_test.cate, sim_test.Y1 - sim_test.Y0)"
   ],
   "metadata": {
    "collapsed": false
   }
  },
  {
   "cell_type": "code",
   "execution_count": 27,
   "outputs": [
    {
     "data": {
      "text/plain": "array([[19.75407549],\n       [20.07363709],\n       [20.1478182 ],\n       [19.80803575],\n       [20.29007027],\n       [20.38179187],\n       [20.93677179],\n       [19.57130031],\n       [20.29984135],\n       [20.42102563],\n       [19.62623155],\n       [20.58280959],\n       [20.32744207],\n       [19.77221668],\n       [19.72690705],\n       [20.09467163],\n       [19.89809642],\n       [19.84480615],\n       [19.62826034],\n       [19.69482223],\n       [20.44636911],\n       [20.35191623],\n       [20.31028223],\n       [19.60198576],\n       [19.90523899],\n       [20.61349649],\n       [20.30930695],\n       [19.86998912],\n       [20.30971882],\n       [19.33075991],\n       [20.2534088 ],\n       [19.32366011],\n       [19.94891434],\n       [19.84163198],\n       [20.33058864],\n       [20.26527305],\n       [20.08926901],\n       [20.05865215],\n       [19.80770221],\n       [19.83621335],\n       [19.4858769 ],\n       [20.17712514],\n       [20.01784359],\n       [19.92445009],\n       [20.18591218],\n       [20.18928462],\n       [19.70257962],\n       [20.89940673],\n       [19.96041124],\n       [20.7752072 ],\n       [19.83664252],\n       [19.64694528],\n       [19.41039646],\n       [20.60609838],\n       [20.85872616],\n       [20.68069272],\n       [20.9707129 ],\n       [20.18681663],\n       [19.75077489],\n       [20.22447479],\n       [20.08583321],\n       [20.4009868 ],\n       [20.06474636],\n       [20.465558  ],\n       [20.62259343],\n       [19.68002561],\n       [20.59266728],\n       [20.48856655],\n       [19.46140914],\n       [20.46470162],\n       [19.82073485],\n       [20.19951382],\n       [20.26705747],\n       [19.86112949],\n       [19.66130877],\n       [20.23749449],\n       [19.90803824],\n       [20.58328404],\n       [20.00376397],\n       [20.74960841],\n       [19.12135559],\n       [20.01326387],\n       [19.71952073],\n       [20.24461801],\n       [19.66221825],\n       [19.39123432],\n       [20.01686038],\n       [19.95881478],\n       [19.99814133],\n       [19.71743568],\n       [20.98987627],\n       [20.11046302],\n       [20.33416769],\n       [20.69173402],\n       [20.93958948],\n       [20.00320732],\n       [20.65123646],\n       [20.31950258],\n       [19.87701016],\n       [20.78863816],\n       [18.85038365],\n       [19.4764147 ],\n       [20.72942403],\n       [19.71471664],\n       [19.75965305],\n       [19.47486881],\n       [20.02194199],\n       [19.7472881 ],\n       [19.96532587],\n       [19.89278473],\n       [20.25213273],\n       [21.4109234 ],\n       [19.64376956],\n       [20.07294711],\n       [20.7129418 ],\n       [19.6123376 ],\n       [20.54944513],\n       [19.58994011],\n       [19.17851373],\n       [20.52638999],\n       [19.78448268],\n       [19.72366956],\n       [19.61378977],\n       [19.76665234],\n       [19.47789077],\n       [20.20138359],\n       [20.20567837],\n       [19.74362138],\n       [20.49104484],\n       [20.14091756],\n       [19.27688074],\n       [20.3738766 ],\n       [20.13558109],\n       [20.62546736],\n       [20.44355115],\n       [19.99729658],\n       [19.83159462],\n       [19.3921287 ],\n       [19.44093065],\n       [19.09125252],\n       [20.88927615],\n       [20.12610489],\n       [20.39398034],\n       [19.54265885],\n       [19.22964478],\n       [20.48097651],\n       [20.6555253 ],\n       [19.92696583],\n       [19.71111044],\n       [19.82573223],\n       [19.3709315 ],\n       [20.19479538],\n       [19.80786857],\n       [19.70472642],\n       [20.08973509],\n       [18.86705408],\n       [20.17467892],\n       [20.4270637 ],\n       [19.57380419],\n       [19.83699584],\n       [20.72271088],\n       [20.90341987],\n       [20.78307269],\n       [19.66137727],\n       [20.18528834],\n       [20.72977741],\n       [20.17772154],\n       [20.11019533],\n       [20.17779606],\n       [20.36909251],\n       [20.32136957],\n       [20.16388399],\n       [19.62356218],\n       [19.2947511 ],\n       [20.47168974],\n       [19.94589362],\n       [19.93521236],\n       [19.39101461],\n       [19.2989697 ],\n       [19.45661454],\n       [19.89151378],\n       [20.66371658],\n       [20.4237554 ],\n       [19.08466035],\n       [20.23563389],\n       [20.68188521],\n       [19.45853424],\n       [20.82251651],\n       [20.26693893],\n       [20.16799039],\n       [20.88861589],\n       [20.61460268],\n       [20.12084227],\n       [19.9088575 ],\n       [19.34547577],\n       [20.59343208],\n       [19.86860584],\n       [20.10805405],\n       [19.54734305],\n       [20.49570987],\n       [19.88221415],\n       [20.06004106],\n       [19.26975109],\n       [20.19376918],\n       [19.25872196],\n       [20.5465231 ],\n       [19.91761486],\n       [20.16655344],\n       [19.70319341],\n       [19.4890918 ],\n       [19.98674932],\n       [19.67686863],\n       [19.60571808],\n       [19.41574523],\n       [20.17150932],\n       [19.69678126],\n       [19.58797211],\n       [20.12547316],\n       [20.05449298],\n       [19.4411065 ],\n       [19.84136624],\n       [19.75832605],\n       [20.06771747],\n       [19.79946311],\n       [19.9083838 ],\n       [19.50745743],\n       [20.69436212],\n       [20.04782118],\n       [19.67610295],\n       [20.88803895],\n       [20.45896507],\n       [19.50058059],\n       [19.17538562],\n       [20.46902776],\n       [20.71581198],\n       [19.61441354],\n       [19.76458887],\n       [20.72712053],\n       [20.52620776],\n       [20.68383267],\n       [19.56459289],\n       [20.20357529],\n       [19.93610973],\n       [20.07801478],\n       [20.00042606],\n       [19.45146867],\n       [20.2093488 ],\n       [19.99683579],\n       [20.08765754],\n       [19.34402217],\n       [20.21229041],\n       [20.26050741],\n       [20.46136452],\n       [20.04790465],\n       [19.4649204 ],\n       [18.99025823],\n       [19.80677963],\n       [19.87965968],\n       [20.389891  ],\n       [20.04165142],\n       [19.24647344],\n       [19.14405052],\n       [19.47278529],\n       [19.64409621],\n       [20.08029713],\n       [20.38526378],\n       [20.45590311],\n       [20.47280206],\n       [19.80775435],\n       [19.47129866],\n       [20.64372174],\n       [19.12660674],\n       [20.12964506],\n       [20.0550025 ],\n       [20.34174543],\n       [19.83657377],\n       [19.96138875],\n       [19.84962674],\n       [19.8397628 ],\n       [19.83469795],\n       [19.68543067],\n       [20.76852809],\n       [19.48504871],\n       [19.89194611],\n       [20.2452489 ],\n       [19.71461813],\n       [20.21302649],\n       [19.11630898],\n       [20.41441855],\n       [20.192414  ],\n       [20.01600577],\n       [19.34467409],\n       [19.85493443],\n       [19.63509549],\n       [20.54049815],\n       [20.11009867],\n       [20.23449525],\n       [20.29170251],\n       [20.22459454],\n       [20.17441434],\n       [20.70901593],\n       [20.80848341],\n       [20.31228348],\n       [19.38983165],\n       [20.52781167],\n       [19.92812695],\n       [20.69127127],\n       [20.28647963],\n       [19.850796  ],\n       [20.02507942],\n       [18.6723595 ],\n       [20.04011526],\n       [19.85079504],\n       [19.05384281],\n       [19.32889591],\n       [20.06138563],\n       [20.00276307],\n       [19.50523226],\n       [20.92290144],\n       [19.61495163],\n       [19.22835811],\n       [20.04851726],\n       [19.48533671],\n       [19.7578682 ],\n       [19.34712061],\n       [20.36309816],\n       [19.17728908],\n       [20.24227157],\n       [20.33182993],\n       [20.42376719],\n       [19.71217323],\n       [19.93748433],\n       [20.01546442],\n       [20.46158756],\n       [19.67691639],\n       [19.98878999],\n       [19.916191  ],\n       [20.0610754 ],\n       [20.16578594],\n       [20.12140143],\n       [19.85382799],\n       [19.76875185],\n       [20.02351487],\n       [20.1437876 ],\n       [20.12908677],\n       [19.97951261],\n       [20.66200691],\n       [19.89686038],\n       [19.30366613],\n       [20.43709659],\n       [20.48376387],\n       [20.88985562],\n       [19.81068714],\n       [20.69807921],\n       [20.16154088],\n       [19.82139748],\n       [20.39719681],\n       [19.47702129],\n       [19.97543009],\n       [20.13902036],\n       [19.71152272],\n       [20.31724739],\n       [20.47071162],\n       [20.15428793],\n       [20.47281723],\n       [20.9380515 ],\n       [20.23747607],\n       [20.37149618],\n       [19.87405269],\n       [20.248536  ],\n       [19.94421266],\n       [19.84530315],\n       [19.17381501],\n       [19.99878191],\n       [19.67385921],\n       [20.04364204],\n       [20.59915642],\n       [20.0901321 ],\n       [19.73724418],\n       [19.89608599],\n       [20.92945179],\n       [19.88415397],\n       [20.23223301],\n       [19.59298905],\n       [20.39918494],\n       [19.69051862],\n       [20.16319873],\n       [19.71121304],\n       [20.39914   ],\n       [20.695151  ],\n       [20.31467397],\n       [20.23438244],\n       [20.09037257],\n       [19.19840926],\n       [21.19114934],\n       [19.49849035],\n       [20.11922571],\n       [19.92165444],\n       [20.01050728],\n       [19.99930069],\n       [20.11325846],\n       [19.68720669],\n       [19.87208826],\n       [20.18395352],\n       [20.42116456],\n       [20.4528302 ],\n       [19.24385341],\n       [19.80661221],\n       [20.1005479 ],\n       [20.45067883],\n       [19.88225251],\n       [20.73657698],\n       [20.43415147],\n       [19.44589593],\n       [19.49580249],\n       [20.54048458],\n       [19.49319118],\n       [19.53978989],\n       [20.0318781 ],\n       [19.49267579],\n       [20.76052163],\n       [19.78287702],\n       [19.77930695],\n       [20.39307551],\n       [19.96020335],\n       [21.1258807 ],\n       [20.61260017],\n       [20.33624861],\n       [20.42790982],\n       [20.21604464],\n       [20.31802581],\n       [19.91908677],\n       [20.59073642],\n       [20.11244426],\n       [19.3469712 ],\n       [21.70735459],\n       [19.39230251],\n       [20.07879559],\n       [20.39742802],\n       [20.89748634],\n       [19.78317779],\n       [19.30858722],\n       [20.2955352 ],\n       [19.94083962],\n       [20.14284169],\n       [20.0230647 ],\n       [21.20072588],\n       [20.16357805],\n       [20.2870564 ],\n       [20.4446282 ],\n       [20.28157656],\n       [19.89933652],\n       [20.02488324],\n       [20.48908708],\n       [20.20498328],\n       [19.37979194],\n       [20.64042176],\n       [19.75511761],\n       [20.24610747],\n       [20.37347361],\n       [20.00438507],\n       [20.08976614],\n       [19.82193042],\n       [20.66244878],\n       [19.81694004],\n       [20.68580133],\n       [20.06709175],\n       [20.12707433],\n       [19.87164592],\n       [20.48222197],\n       [20.36552808],\n       [20.26948372],\n       [19.87015442],\n       [20.80459563],\n       [19.7224072 ],\n       [19.80809748],\n       [20.12480897],\n       [20.17810895],\n       [20.39086609],\n       [21.12022809],\n       [20.17505714],\n       [19.25241334],\n       [19.97686811],\n       [20.16106958],\n       [19.72345459],\n       [20.11031742],\n       [19.18879368],\n       [19.92673432],\n       [19.74410869],\n       [20.06142184],\n       [20.20416453],\n       [20.11915267],\n       [19.65136848],\n       [20.11856105],\n       [19.75935134],\n       [19.6762488 ],\n       [19.62254798],\n       [20.01435288],\n       [20.65823342],\n       [20.13315074],\n       [19.54171768],\n       [19.72005245],\n       [19.68288809],\n       [20.46032697],\n       [20.01157301],\n       [20.44948964],\n       [19.64889261],\n       [20.49232783],\n       [20.31400653],\n       [20.91620893],\n       [19.42229744],\n       [19.6515617 ],\n       [20.1575772 ],\n       [20.79102197],\n       [20.29312482],\n       [20.22649003],\n       [19.36028371],\n       [20.32726321],\n       [20.32678768],\n       [19.34953847],\n       [19.96353355],\n       [19.75106425],\n       [20.04398437],\n       [19.8393604 ],\n       [19.97073133],\n       [20.93773116],\n       [20.79832692],\n       [20.43054225],\n       [19.46024535],\n       [19.46808448],\n       [19.42079434],\n       [19.8839144 ],\n       [20.21397466],\n       [20.65366641],\n       [20.26490249],\n       [19.76757559],\n       [20.37943643],\n       [19.80174341],\n       [20.2513952 ],\n       [20.4365414 ],\n       [20.1751236 ],\n       [20.48686809],\n       [19.73099528],\n       [20.50258948],\n       [20.91497792],\n       [19.92957721],\n       [20.00126371],\n       [20.21015114],\n       [20.00019997],\n       [20.04524789],\n       [19.90229544],\n       [20.50572633],\n       [19.2747042 ],\n       [20.3305636 ],\n       [19.99310259],\n       [19.36359861],\n       [19.65706218],\n       [20.06397257],\n       [19.07600732],\n       [20.65216845],\n       [20.03185724],\n       [20.43965468],\n       [20.57577341],\n       [20.16401956],\n       [19.44577388],\n       [19.61681657],\n       [19.95365239],\n       [20.08606851],\n       [21.28820004],\n       [20.34828494],\n       [20.07683281],\n       [20.42658376],\n       [19.96729879],\n       [19.78227937],\n       [20.39097158],\n       [20.92691864],\n       [19.69444318],\n       [19.7598697 ],\n       [19.65752724],\n       [20.19837416],\n       [19.60493843],\n       [19.77933648],\n       [20.12581427],\n       [20.71309628],\n       [19.47657338],\n       [20.29326708],\n       [20.19059589],\n       [19.50169849],\n       [20.06555427],\n       [19.31353596],\n       [19.94840654],\n       [19.62546265],\n       [20.32452681],\n       [20.10017302],\n       [20.73267073],\n       [19.58658341],\n       [19.0282013 ],\n       [20.20593481],\n       [19.78937349],\n       [19.67222199],\n       [20.05647496],\n       [20.53948985],\n       [20.244329  ],\n       [20.3059341 ],\n       [19.88486878],\n       [19.60860321],\n       [20.72121154],\n       [19.03173911],\n       [19.55618997],\n       [19.52705974],\n       [20.44014366],\n       [20.42050729],\n       [20.236689  ],\n       [20.06149172],\n       [20.38320101],\n       [20.03190352],\n       [19.87278448],\n       [19.59560674],\n       [20.42339942],\n       [19.89055148],\n       [20.60343667],\n       [20.04830985],\n       [20.58805707],\n       [19.6908449 ],\n       [20.49625006],\n       [19.93387809],\n       [20.34992036],\n       [19.95244172],\n       [20.50058439],\n       [20.64992707],\n       [20.03461078],\n       [20.03145643],\n       [20.18436388],\n       [20.29068734],\n       [20.54405609],\n       [20.40863086],\n       [19.70451169],\n       [20.46370441],\n       [19.27377221],\n       [19.83713663],\n       [20.33104289],\n       [20.19067185],\n       [20.44020483],\n       [20.07818655],\n       [19.53177814],\n       [20.4104088 ],\n       [19.55629435],\n       [19.66459765],\n       [20.49174858],\n       [20.58599737],\n       [20.5293455 ],\n       [19.71828282],\n       [19.71332752],\n       [19.73560891],\n       [20.45049734],\n       [19.72608475],\n       [19.93987334],\n       [19.98083752],\n       [20.1388655 ],\n       [20.51737462],\n       [20.81912114],\n       [19.97796526],\n       [19.74977355],\n       [20.26235977],\n       [20.19530272],\n       [20.74133186],\n       [19.88726693],\n       [20.0484498 ],\n       [19.93060852],\n       [20.32627751],\n       [20.05694143],\n       [19.82220973],\n       [20.48282626],\n       [20.35806227],\n       [20.48008484],\n       [19.52252706],\n       [19.92358132],\n       [20.97905107],\n       [19.53298102],\n       [19.60797558],\n       [19.81463185],\n       [20.87548248],\n       [20.33826874],\n       [19.33985412],\n       [21.0189466 ],\n       [19.61859165],\n       [18.98402482],\n       [20.03533582],\n       [19.55117799],\n       [19.20516627],\n       [20.71186898],\n       [19.51932325],\n       [19.20209939],\n       [19.68198755],\n       [20.60154215],\n       [19.79408285],\n       [19.42831087],\n       [20.06154069],\n       [20.17005204],\n       [19.76127508],\n       [19.5864082 ],\n       [21.49315307],\n       [19.7042349 ],\n       [20.36551498],\n       [20.27426715],\n       [19.6799805 ],\n       [19.83145788],\n       [20.63424277],\n       [18.93944557],\n       [21.23286308],\n       [19.33884623],\n       [19.61257726],\n       [20.66679311],\n       [19.96927025],\n       [20.32378304],\n       [19.8012831 ],\n       [19.66234339],\n       [20.16783405],\n       [20.36609854],\n       [19.56658345],\n       [20.27092923],\n       [19.47890011],\n       [20.32314852],\n       [20.33312958],\n       [20.79417854],\n       [20.14104528],\n       [20.85195011],\n       [19.4054809 ],\n       [21.06717275],\n       [20.17792303],\n       [20.38542488],\n       [19.63447266],\n       [19.60109002],\n       [20.27831598],\n       [20.01835064],\n       [20.14850823],\n       [19.35769539],\n       [20.23674022],\n       [19.64256063],\n       [20.55414687],\n       [20.15907569],\n       [19.77604741],\n       [19.7590726 ],\n       [20.28558858],\n       [20.10341849],\n       [19.83751321],\n       [19.86105729],\n       [20.08058044],\n       [20.47351537],\n       [20.02092894],\n       [20.77509332],\n       [19.47282841],\n       [19.76937655],\n       [19.59848714],\n       [20.48056243],\n       [20.01833623],\n       [20.39727085],\n       [20.98336684],\n       [20.00238713],\n       [20.10216724],\n       [19.97910135],\n       [20.45708625],\n       [19.56838006],\n       [19.18117338],\n       [20.26687874],\n       [20.42466201],\n       [20.78595907],\n       [20.26387036],\n       [20.02425465],\n       [20.95432897],\n       [19.52715229],\n       [20.11587143],\n       [20.11652751],\n       [20.07705858],\n       [20.46452124],\n       [20.55263439],\n       [19.58034064],\n       [19.73999368],\n       [20.58309776],\n       [19.85889017],\n       [19.67141493],\n       [18.74960184],\n       [21.14405659],\n       [19.91574374],\n       [19.81659923],\n       [20.72905978],\n       [20.32566866],\n       [19.06094363],\n       [20.20715468],\n       [19.34047545],\n       [20.37603097],\n       [20.34761348],\n       [19.75838659],\n       [19.42597466],\n       [20.09923862],\n       [19.91799644],\n       [20.21310288],\n       [20.41013307],\n       [19.96529372],\n       [20.61721679],\n       [20.00952614],\n       [19.60436035],\n       [20.53299042],\n       [20.40318522],\n       [20.46861822],\n       [19.57625116],\n       [20.61621037],\n       [19.98970356],\n       [20.02453623],\n       [20.00635754],\n       [20.34642948],\n       [19.08315112],\n       [20.38196433],\n       [20.22404606],\n       [21.64759931],\n       [19.34923797],\n       [19.26627345],\n       [20.69240828],\n       [20.61402328],\n       [19.286843  ],\n       [18.7513948 ],\n       [19.43801511],\n       [19.57320759],\n       [20.0647706 ],\n       [20.3155978 ],\n       [20.50955302],\n       [20.84407781],\n       [20.10670997],\n       [19.59912515],\n       [20.67815592],\n       [21.07468631],\n       [19.82666947],\n       [19.54337431],\n       [20.63318316],\n       [20.85508934],\n       [20.12898173],\n       [19.84018783],\n       [20.49488413],\n       [20.53637133],\n       [21.03248879],\n       [20.63353874],\n       [19.81939015],\n       [19.25834264],\n       [21.05186499],\n       [19.77165615],\n       [19.82317509],\n       [20.3558225 ],\n       [18.87135738],\n       [19.83596281],\n       [19.46286127],\n       [19.96431622],\n       [20.13544662],\n       [19.75405007],\n       [20.32599291],\n       [20.38864137],\n       [19.92575726],\n       [19.62410977],\n       [20.54426446],\n       [20.20337513],\n       [19.72446082],\n       [20.51782145],\n       [21.2679423 ],\n       [20.0085922 ],\n       [19.56502219],\n       [19.94560324],\n       [19.96144937],\n       [20.11020546],\n       [19.99200067],\n       [19.97987474],\n       [19.92947953],\n       [19.60778188],\n       [19.74698305],\n       [19.79829051],\n       [19.64414576],\n       [19.26653624],\n       [19.52350488],\n       [20.56563336],\n       [20.38703545],\n       [19.63726918],\n       [20.77440387],\n       [20.08977262],\n       [19.82789764],\n       [20.39158303],\n       [20.5022013 ],\n       [20.39949832],\n       [20.13882534],\n       [20.17749418],\n       [20.33489492],\n       [20.61238642],\n       [19.86549578],\n       [20.12617167],\n       [19.85168707],\n       [19.3564107 ],\n       [20.0755481 ],\n       [19.70196696],\n       [19.81677392],\n       [19.44153208],\n       [19.88217813],\n       [19.7952742 ],\n       [19.386409  ],\n       [20.53488764],\n       [19.84841856],\n       [20.44546149],\n       [20.7275248 ],\n       [19.11273419],\n       [19.36882465],\n       [19.17479804],\n       [19.58143611],\n       [19.56178241],\n       [20.41813303],\n       [20.40600773],\n       [19.27917831],\n       [19.72697488],\n       [19.48724469],\n       [19.12055066],\n       [20.46063021],\n       [20.35707107],\n       [20.41901873],\n       [19.81124108],\n       [19.80542332],\n       [20.38402419],\n       [19.75786861],\n       [19.83027285],\n       [19.8892529 ],\n       [20.032552  ],\n       [19.57724447],\n       [20.14692833],\n       [19.96679481],\n       [20.8045373 ],\n       [18.86448751],\n       [18.85277699],\n       [20.52047305],\n       [20.11645689],\n       [19.39389137],\n       [20.27826076],\n       [19.78858629],\n       [19.16204947],\n       [21.02342221],\n       [18.92448186],\n       [19.9741532 ],\n       [20.40870961],\n       [20.30944006],\n       [20.35547619],\n       [19.86653494],\n       [20.8218539 ],\n       [19.91257594],\n       [19.55193597],\n       [19.57557415],\n       [19.68350517],\n       [19.36892184],\n       [19.54519016],\n       [20.83136938],\n       [20.50029188],\n       [19.59927924],\n       [19.91463438],\n       [19.92712869],\n       [20.11707615],\n       [20.33530861],\n       [20.30378568],\n       [19.67426158],\n       [19.66526661],\n       [20.36559493],\n       [20.01988859],\n       [20.0886759 ],\n       [20.55017716],\n       [19.33641779],\n       [20.09125108],\n       [19.92283178],\n       [19.95718541],\n       [18.25164061],\n       [20.82974222],\n       [20.0162402 ],\n       [19.29797373],\n       [19.35642174],\n       [20.28765286],\n       [19.80653162],\n       [19.45114835],\n       [20.20317579],\n       [19.67739761],\n       [20.15140045],\n       [19.54829282],\n       [20.3714497 ],\n       [19.89840351],\n       [20.21125754],\n       [20.67673878],\n       [20.14854531],\n       [20.00391014],\n       [19.56147636],\n       [20.32129355],\n       [20.33928238],\n       [19.86347651],\n       [20.14611798],\n       [19.97419196],\n       [20.44535497],\n       [20.24097403],\n       [20.26697756],\n       [19.76937514],\n       [20.18775404],\n       [19.97824383],\n       [20.31058528]])"
     },
     "execution_count": 27,
     "metadata": {},
     "output_type": "execute_result"
    }
   ],
   "source": [
    "cau_forest = CausalForest()\n",
    "cau_forest.fit(sim_x, sim_w, sim_y)\n",
    "\n",
    "ret = cau_forest.predict(sim_test_x)\n",
    "ret"
   ],
   "metadata": {
    "collapsed": false
   }
  },
  {
   "cell_type": "code",
   "execution_count": 28,
   "outputs": [
    {
     "data": {
      "text/plain": "0.22371552135330805"
     },
     "execution_count": 28,
     "metadata": {},
     "output_type": "execute_result"
    }
   ],
   "source": [
    "mean_squared_error(ret, sim_test.Y1 - sim_test.Y0)"
   ],
   "metadata": {
    "collapsed": false
   }
  },
  {
   "cell_type": "code",
   "execution_count": 44,
   "outputs": [
    {
     "name": "stdout",
     "output_type": "stream",
     "text": [
      "[6.776936786945289, 4.5058507287001905, 3.2284678427135804, 3.150693692962789, 1.9073466548718871, 1.6745326559407718, 1.2564625930134061]\n",
      "[3.6805425131156997, 2.964818076374953, 2.3593960422291316, 1.566630089423243, 1.3105584882493257, 1.2599881725362152, 0.8578066241548774]\n",
      "[2.0809735209279965, 1.5477972152796302, 0.5515528687537571, 0.4374154391216555, 0.26904050284841163, 0.3082204513934361, 0.2700739772877669]\n",
      "[7.318555290859253, 4.435598779073409, 3.875163979487291, 3.1462279674952436, 1.7571863862168737, 1.6286164046013059, 1.2213473380534672]\n",
      "[7.2734604505122356, 4.201534200623367, 3.3138795471951834, 2.804926686314252, 1.7049522255980503, 1.5451163714919025, 1.1906105316407498]\n"
     ]
    },
    {
     "data": {
      "text/plain": "<Figure size 640x480 with 1 Axes>",
      "image/png": "[encoded data removed]"
     },
     "metadata": {},
     "output_type": "display_data"
    }
   ],
   "source": [
    "training_sizes = [100, 200, 300, 500, 750, 1000, 2000]\n",
    "mse_s = []\n",
    "mse_t = []\n",
    "mse_forest = []\n",
    "mse_econml_s = []\n",
    "mse_econml_t = []\n",
    "\n",
    "for size in training_sizes:\n",
    "    # S-learner\n",
    "    regr = RandomForestRegressor()\n",
    "    regr.fit(sim_x_s.head(size), sim_y.head(size))\n",
    "\n",
    "    s_learner_cate_test = sim_test_x.assign(\n",
    "        cate=(regr.predict(sim_test_x.assign(**{\"W\": 1})) - # predict under treatment\n",
    "            regr.predict(sim_test_x.assign(**{\"W\": 0}))) # predict under control\n",
    "    )\n",
    "    mse_s.append(mean_squared_error(s_learner_cate_test.cate, sim_test.Y1 - sim_test.Y0))\n",
    "\n",
    "    # T-learner\n",
    "    regr0 = RandomForestRegressor()\n",
    "    regr1 = RandomForestRegressor()\n",
    "    regr0.fit(sim_x_t_0.head(size), sim.query(\"W==0\")[\"Y\"].head(size))\n",
    "    regr1.fit(sim_x_t_1.head(size), sim.query(\"W==1\")[\"Y\"].head(size))\n",
    "\n",
    "    t_learner_cate_test = sim_test_x.assign(cate=regr1.predict(sim_test_x) - regr0.predict(sim_test_x))\n",
    "    mse_t.append(mean_squared_error(t_learner_cate_test.cate, sim_test.Y1 - sim_test.Y0))\n",
    "\n",
    "    # Causal forest\n",
    "    cau_forest = CausalForest()\n",
    "    cau_forest.fit(sim_x.head(size), sim_w.head(size), sim_y.head(size))\n",
    "\n",
    "    causal_forest_cate = cau_forest.predict(sim_test_x)\n",
    "    mse_forest.append(mean_squared_error(causal_forest_cate, sim_test.Y1 - sim_test.Y0))\n",
    "\n",
    "    econml_s = SLearner(overall_model=RandomForestRegressor())\n",
    "    econml_s.fit(sim_y.head(size), sim_w.head(size), X=sim_x.head(size))\n",
    "    econml_s_cate = econml_s.effect(sim_test_x)\n",
    "    mse_econml_s.append(mean_squared_error(econml_s_cate, sim_test.Y1 - sim_test.Y0))\n",
    "\n",
    "    econml_t = TLearner(models=RandomForestRegressor())\n",
    "    econml_t.fit(sim_y.head(size), sim_w.head(size), X=sim_x.head(size))\n",
    "    econml_t_cate = econml_t.effect(sim_test_x)\n",
    "    mse_econml_t.append(mean_squared_error(econml_t_cate, sim_test.Y1 - sim_test.Y0))\n",
    "\n",
    "\n",
    "\n",
    "print(mse_s)\n",
    "print(mse_t)\n",
    "print(mse_forest)\n",
    "print(mse_econml_s)\n",
    "print(mse_econml_t)\n",
    "\n",
    "plt.plot(training_sizes, mse_s, label=\"S-learner\")\n",
    "plt.plot(training_sizes, mse_t, label=\"T-learner\")\n",
    "plt.plot(training_sizes, mse_forest, label=\"Causal forest\")\n",
    "plt.plot(training_sizes, mse_econml_s, label=\"S-learner - econml\")\n",
    "plt.plot(training_sizes, mse_econml_t, label=\"T-learner - econml\")\n",
    "plt.ylabel(\"MSE\")\n",
    "plt.xlabel(\"Training size\")\n",
    "plt.legend()\n",
    "plt.show()"
   ],
   "metadata": {
    "collapsed": false
   }
  }
 ],
 "metadata": {
  "kernelspec": {
   "display_name": "Python 3",
   "language": "python",
   "name": "python3"
  },
  "language_info": {
   "codemirror_mode": {
    "name": "ipython",
    "version": 2
   },
   "file_extension": ".py",
   "mimetype": "text/x-python",
   "name": "python",
   "nbconvert_exporter": "python",
   "pygments_lexer": "ipython2",
   "version": "2.7.6"
  }
 },
 "nbformat": 4,
 "nbformat_minor": 0
}
