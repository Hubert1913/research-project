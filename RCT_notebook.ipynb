{
 "cells": [
  {
   "cell_type": "code",
   "execution_count": 56,
   "metadata": {
    "collapsed": true
   },
   "outputs": [],
   "source": [
    "import numpy as np\n",
    "import pandas as pd\n",
    "import pickle\n",
    "from sklearn.impute import KNNImputer\n",
    "from sklearn.ensemble import RandomForestRegressor\n",
    "from sklearn.model_selection import train_test_split\n",
    "from econml.grf import CausalForest\n",
    "from sklift.metrics import qini_auc_score\n",
    "from sklift.viz import plot_qini_curve\n",
    "\n",
    "from matplotlib import pyplot as plt"
   ]
  },
  {
   "cell_type": "markdown",
   "source": [
    "# Train models"
   ],
   "metadata": {
    "collapsed": false
   }
  },
  {
   "cell_type": "code",
   "execution_count": 57,
   "outputs": [
    {
     "data": {
      "text/plain": "           age    weight  pf_ratio       po2      pco2  driving_pressure  \\\n0     0.732971  0.183841 -0.026374 -0.049713 -1.422636         -0.364306   \n1    -1.005004  1.422974 -0.637005 -0.385550 -0.768253         -1.141620   \n2     1.353676 -0.381057 -0.171336 -0.406111 -0.403630          1.468983   \n3     1.353676  0.100018 -0.319055 -1.169822 -0.403630          1.395651   \n4     0.050195 -0.654395 -0.577049 -0.737052 -0.334933         -1.072479   \n...        ...       ...       ...       ...       ...               ...   \n3936  0.919183 -1.128181 -0.711144  0.068026 -0.395043          1.219655   \n3937  0.732971  0.475402 -0.527518 -0.793421 -0.300585         -0.540301   \n3938  0.236407  0.438957 -0.701828 -0.554080  0.137359          0.281012   \n3939  0.298477  0.245798 -0.425805 -0.814696 -0.156321          0.075683   \n3940 -0.322228 -0.381057 -0.715198 -0.259733 -0.403630          0.222346   \n\n          fio2  minute_volume  plateau_pressure  \n0    -0.564826      -0.543738          0.705302  \n1     0.758913       3.032717         -0.620678  \n2    -0.434729      -0.035368          0.317210  \n3    -1.503965      -0.868889          0.640620  \n4    -0.385943      -1.051634         -1.236080  \n...        ...            ...               ...  \n3936  0.541000      -0.428608          0.252528  \n3937 -0.411497      -0.966353         -1.028174  \n3938  1.377339      -0.299739          1.869576  \n3939  0.150708      -0.298318          0.113924  \n3940  0.205750       0.242810         -0.640082  \n\n[3941 rows x 9 columns]",
      "text/html": "<div>\n<style scoped>\n    .dataframe tbody tr th:only-of-type {\n        vertical-align: middle;\n    }\n\n    .dataframe tbody tr th {\n        vertical-align: top;\n    }\n\n    .dataframe thead th {\n        text-align: right;\n    }\n</style>\n<table border=\"1\" class=\"dataframe\">\n  <thead>\n    <tr style=\"text-align: right;\">\n      <th></th>\n      <th>age</th>\n      <th>weight</th>\n      <th>pf_ratio</th>\n      <th>po2</th>\n      <th>pco2</th>\n      <th>driving_pressure</th>\n      <th>fio2</th>\n      <th>minute_volume</th>\n      <th>plateau_pressure</th>\n    </tr>\n  </thead>\n  <tbody>\n    <tr>\n      <th>0</th>\n      <td>0.732971</td>\n      <td>0.183841</td>\n      <td>-0.026374</td>\n      <td>-0.049713</td>\n      <td>-1.422636</td>\n      <td>-0.364306</td>\n      <td>-0.564826</td>\n      <td>-0.543738</td>\n      <td>0.705302</td>\n    </tr>\n    <tr>\n      <th>1</th>\n      <td>-1.005004</td>\n      <td>1.422974</td>\n      <td>-0.637005</td>\n      <td>-0.385550</td>\n      <td>-0.768253</td>\n      <td>-1.141620</td>\n      <td>0.758913</td>\n      <td>3.032717</td>\n      <td>-0.620678</td>\n    </tr>\n    <tr>\n      <th>2</th>\n      <td>1.353676</td>\n      <td>-0.381057</td>\n      <td>-0.171336</td>\n      <td>-0.406111</td>\n      <td>-0.403630</td>\n      <td>1.468983</td>\n      <td>-0.434729</td>\n      <td>-0.035368</td>\n      <td>0.317210</td>\n    </tr>\n    <tr>\n      <th>3</th>\n      <td>1.353676</td>\n      <td>0.100018</td>\n      <td>-0.319055</td>\n      <td>-1.169822</td>\n      <td>-0.403630</td>\n      <td>1.395651</td>\n      <td>-1.503965</td>\n      <td>-0.868889</td>\n      <td>0.640620</td>\n    </tr>\n    <tr>\n      <th>4</th>\n      <td>0.050195</td>\n      <td>-0.654395</td>\n      <td>-0.577049</td>\n      <td>-0.737052</td>\n      <td>-0.334933</td>\n      <td>-1.072479</td>\n      <td>-0.385943</td>\n      <td>-1.051634</td>\n      <td>-1.236080</td>\n    </tr>\n    <tr>\n      <th>...</th>\n      <td>...</td>\n      <td>...</td>\n      <td>...</td>\n      <td>...</td>\n      <td>...</td>\n      <td>...</td>\n      <td>...</td>\n      <td>...</td>\n      <td>...</td>\n    </tr>\n    <tr>\n      <th>3936</th>\n      <td>0.919183</td>\n      <td>-1.128181</td>\n      <td>-0.711144</td>\n      <td>0.068026</td>\n      <td>-0.395043</td>\n      <td>1.219655</td>\n      <td>0.541000</td>\n      <td>-0.428608</td>\n      <td>0.252528</td>\n    </tr>\n    <tr>\n      <th>3937</th>\n      <td>0.732971</td>\n      <td>0.475402</td>\n      <td>-0.527518</td>\n      <td>-0.793421</td>\n      <td>-0.300585</td>\n      <td>-0.540301</td>\n      <td>-0.411497</td>\n      <td>-0.966353</td>\n      <td>-1.028174</td>\n    </tr>\n    <tr>\n      <th>3938</th>\n      <td>0.236407</td>\n      <td>0.438957</td>\n      <td>-0.701828</td>\n      <td>-0.554080</td>\n      <td>0.137359</td>\n      <td>0.281012</td>\n      <td>1.377339</td>\n      <td>-0.299739</td>\n      <td>1.869576</td>\n    </tr>\n    <tr>\n      <th>3939</th>\n      <td>0.298477</td>\n      <td>0.245798</td>\n      <td>-0.425805</td>\n      <td>-0.814696</td>\n      <td>-0.156321</td>\n      <td>0.075683</td>\n      <td>0.150708</td>\n      <td>-0.298318</td>\n      <td>0.113924</td>\n    </tr>\n    <tr>\n      <th>3940</th>\n      <td>-0.322228</td>\n      <td>-0.381057</td>\n      <td>-0.715198</td>\n      <td>-0.259733</td>\n      <td>-0.403630</td>\n      <td>0.222346</td>\n      <td>0.205750</td>\n      <td>0.242810</td>\n      <td>-0.640082</td>\n    </tr>\n  </tbody>\n</table>\n<p>3941 rows × 9 columns</p>\n</div>"
     },
     "execution_count": 57,
     "metadata": {},
     "output_type": "execute_result"
    }
   ],
   "source": [
    "data = pd.read_csv(\"bsc_project_set.csv\", index_col=0)\n",
    "\n",
    "xs = data.copy()\n",
    "\n",
    "y = xs[\"mort_28\"]\n",
    "w = xs[\"peep_regime\"]\n",
    "\n",
    "w = pd.Series(map(lambda x: 0 if x == \"low\" else 1, w))\n",
    "y = pd.Series(map(lambda x: 1 if x == False else 0, y))\n",
    "\n",
    "# xs = xs.drop(columns=[\"id\", \"mort_28\", \"peep\", \"peep_regime\"])\n",
    "selected_columns = [\"age\", \"weight\", \"pf_ratio\", \"po2\", \"pco2\", \"driving_pressure\", \"fio2\", \"minute_volume\", \"plateau_pressure\"]\n",
    "xs = xs[selected_columns]\n",
    "columns_x = xs.columns\n",
    "\n",
    "norm_xs = (xs - xs.mean())/xs.std()\n",
    "\n",
    "imputer = KNNImputer(n_neighbors=2, weights=\"uniform\")\n",
    "imp_xs = imputer.fit_transform(norm_xs)\n",
    "\n",
    "imp_xs = pd.DataFrame(data=imp_xs, columns=columns_x)\n",
    "\n",
    "imp_xs"
   ],
   "metadata": {
    "collapsed": false
   }
  },
  {
   "cell_type": "code",
   "execution_count": 58,
   "outputs": [],
   "source": [
    "full_data = imp_xs.assign(W=w, Y=y)"
   ],
   "metadata": {
    "collapsed": false
   }
  },
  {
   "cell_type": "code",
   "execution_count": 59,
   "outputs": [
    {
     "data": {
      "text/plain": "CausalForest(max_depth=5, n_estimators=2500)",
      "text/html": "<style>#sk-container-id-4 {\n  /* Definition of color scheme common for light and dark mode */\n  --sklearn-color-text: black;\n  --sklearn-color-line: gray;\n  /* Definition of color scheme for unfitted estimators */\n  --sklearn-color-unfitted-level-0: #fff5e6;\n  --sklearn-color-unfitted-level-1: #f6e4d2;\n  --sklearn-color-unfitted-level-2: #ffe0b3;\n  --sklearn-color-unfitted-level-3: chocolate;\n  /* Definition of color scheme for fitted estimators */\n  --sklearn-color-fitted-level-0: #f0f8ff;\n  --sklearn-color-fitted-level-1: #d4ebff;\n  --sklearn-color-fitted-level-2: #b3dbfd;\n  --sklearn-color-fitted-level-3: cornflowerblue;\n\n  /* Specific color for light theme */\n  --sklearn-color-text-on-default-background: var(--sg-text-color, var(--theme-code-foreground, var(--jp-content-font-color1, black)));\n  --sklearn-color-background: var(--sg-background-color, var(--theme-background, var(--jp-layout-color0, white)));\n  --sklearn-color-border-box: var(--sg-text-color, var(--theme-code-foreground, var(--jp-content-font-color1, black)));\n  --sklearn-color-icon: #696969;\n\n  @media (prefers-color-scheme: dark) {\n    /* Redefinition of color scheme for dark theme */\n    --sklearn-color-text-on-default-background: var(--sg-text-color, var(--theme-code-foreground, var(--jp-content-font-color1, white)));\n    --sklearn-color-background: var(--sg-background-color, var(--theme-background, var(--jp-layout-color0, #111)));\n    --sklearn-color-border-box: var(--sg-text-color, var(--theme-code-foreground, var(--jp-content-font-color1, white)));\n    --sklearn-color-icon: #878787;\n  }\n}\n\n#sk-container-id-4 {\n  color: var(--sklearn-color-text);\n}\n\n#sk-container-id-4 pre {\n  padding: 0;\n}\n\n#sk-container-id-4 input.sk-hidden--visually {\n  border: 0;\n  clip: rect(1px 1px 1px 1px);\n  clip: rect(1px, 1px, 1px, 1px);\n  height: 1px;\n  margin: -1px;\n  overflow: hidden;\n  padding: 0;\n  position: absolute;\n  width: 1px;\n}\n\n#sk-container-id-4 div.sk-dashed-wrapped {\n  border: 1px dashed var(--sklearn-color-line);\n  margin: 0 0.4em 0.5em 0.4em;\n  box-sizing: border-box;\n  padding-bottom: 0.4em;\n  background-color: var(--sklearn-color-background);\n}\n\n#sk-container-id-4 div.sk-container {\n  /* jupyter's `normalize.less` sets `[hidden] { display: none; }`\n     but bootstrap.min.css set `[hidden] { display: none !important; }`\n     so we also need the `!important` here to be able to override the\n     default hidden behavior on the sphinx rendered scikit-learn.org.\n     See: https://github.com/scikit-learn/scikit-learn/issues/21755 */\n  display: inline-block !important;\n  position: relative;\n}\n\n#sk-container-id-4 div.sk-text-repr-fallback {\n  display: none;\n}\n\ndiv.sk-parallel-item,\ndiv.sk-serial,\ndiv.sk-item {\n  /* draw centered vertical line to link estimators */\n  background-image: linear-gradient(var(--sklearn-color-text-on-default-background), var(--sklearn-color-text-on-default-background));\n  background-size: 2px 100%;\n  background-repeat: no-repeat;\n  background-position: center center;\n}\n\n/* Parallel-specific style estimator block */\n\n#sk-container-id-4 div.sk-parallel-item::after {\n  content: \"\";\n  width: 100%;\n  border-bottom: 2px solid var(--sklearn-color-text-on-default-background);\n  flex-grow: 1;\n}\n\n#sk-container-id-4 div.sk-parallel {\n  display: flex;\n  align-items: stretch;\n  justify-content: center;\n  background-color: var(--sklearn-color-background);\n  position: relative;\n}\n\n#sk-container-id-4 div.sk-parallel-item {\n  display: flex;\n  flex-direction: column;\n}\n\n#sk-container-id-4 div.sk-parallel-item:first-child::after {\n  align-self: flex-end;\n  width: 50%;\n}\n\n#sk-container-id-4 div.sk-parallel-item:last-child::after {\n  align-self: flex-start;\n  width: 50%;\n}\n\n#sk-container-id-4 div.sk-parallel-item:only-child::after {\n  width: 0;\n}\n\n/* Serial-specific style estimator block */\n\n#sk-container-id-4 div.sk-serial {\n  display: flex;\n  flex-direction: column;\n  align-items: center;\n  background-color: var(--sklearn-color-background);\n  padding-right: 1em;\n  padding-left: 1em;\n}\n\n\n/* Toggleable style: style used for estimator/Pipeline/ColumnTransformer box that is\nclickable and can be expanded/collapsed.\n- Pipeline and ColumnTransformer use this feature and define the default style\n- Estimators will overwrite some part of the style using the `sk-estimator` class\n*/\n\n/* Pipeline and ColumnTransformer style (default) */\n\n#sk-container-id-4 div.sk-toggleable {\n  /* Default theme specific background. It is overwritten whether we have a\n  specific estimator or a Pipeline/ColumnTransformer */\n  background-color: var(--sklearn-color-background);\n}\n\n/* Toggleable label */\n#sk-container-id-4 label.sk-toggleable__label {\n  cursor: pointer;\n  display: block;\n  width: 100%;\n  margin-bottom: 0;\n  padding: 0.5em;\n  box-sizing: border-box;\n  text-align: center;\n}\n\n#sk-container-id-4 label.sk-toggleable__label-arrow:before {\n  /* Arrow on the left of the label */\n  content: \"▸\";\n  float: left;\n  margin-right: 0.25em;\n  color: var(--sklearn-color-icon);\n}\n\n#sk-container-id-4 label.sk-toggleable__label-arrow:hover:before {\n  color: var(--sklearn-color-text);\n}\n\n/* Toggleable content - dropdown */\n\n#sk-container-id-4 div.sk-toggleable__content {\n  max-height: 0;\n  max-width: 0;\n  overflow: hidden;\n  text-align: left;\n  /* unfitted */\n  background-color: var(--sklearn-color-unfitted-level-0);\n}\n\n#sk-container-id-4 div.sk-toggleable__content.fitted {\n  /* fitted */\n  background-color: var(--sklearn-color-fitted-level-0);\n}\n\n#sk-container-id-4 div.sk-toggleable__content pre {\n  margin: 0.2em;\n  border-radius: 0.25em;\n  color: var(--sklearn-color-text);\n  /* unfitted */\n  background-color: var(--sklearn-color-unfitted-level-0);\n}\n\n#sk-container-id-4 div.sk-toggleable__content.fitted pre {\n  /* unfitted */\n  background-color: var(--sklearn-color-fitted-level-0);\n}\n\n#sk-container-id-4 input.sk-toggleable__control:checked~div.sk-toggleable__content {\n  /* Expand drop-down */\n  max-height: 200px;\n  max-width: 100%;\n  overflow: auto;\n}\n\n#sk-container-id-4 input.sk-toggleable__control:checked~label.sk-toggleable__label-arrow:before {\n  content: \"▾\";\n}\n\n/* Pipeline/ColumnTransformer-specific style */\n\n#sk-container-id-4 div.sk-label input.sk-toggleable__control:checked~label.sk-toggleable__label {\n  color: var(--sklearn-color-text);\n  background-color: var(--sklearn-color-unfitted-level-2);\n}\n\n#sk-container-id-4 div.sk-label.fitted input.sk-toggleable__control:checked~label.sk-toggleable__label {\n  background-color: var(--sklearn-color-fitted-level-2);\n}\n\n/* Estimator-specific style */\n\n/* Colorize estimator box */\n#sk-container-id-4 div.sk-estimator input.sk-toggleable__control:checked~label.sk-toggleable__label {\n  /* unfitted */\n  background-color: var(--sklearn-color-unfitted-level-2);\n}\n\n#sk-container-id-4 div.sk-estimator.fitted input.sk-toggleable__control:checked~label.sk-toggleable__label {\n  /* fitted */\n  background-color: var(--sklearn-color-fitted-level-2);\n}\n\n#sk-container-id-4 div.sk-label label.sk-toggleable__label,\n#sk-container-id-4 div.sk-label label {\n  /* The background is the default theme color */\n  color: var(--sklearn-color-text-on-default-background);\n}\n\n/* On hover, darken the color of the background */\n#sk-container-id-4 div.sk-label:hover label.sk-toggleable__label {\n  color: var(--sklearn-color-text);\n  background-color: var(--sklearn-color-unfitted-level-2);\n}\n\n/* Label box, darken color on hover, fitted */\n#sk-container-id-4 div.sk-label.fitted:hover label.sk-toggleable__label.fitted {\n  color: var(--sklearn-color-text);\n  background-color: var(--sklearn-color-fitted-level-2);\n}\n\n/* Estimator label */\n\n#sk-container-id-4 div.sk-label label {\n  font-family: monospace;\n  font-weight: bold;\n  display: inline-block;\n  line-height: 1.2em;\n}\n\n#sk-container-id-4 div.sk-label-container {\n  text-align: center;\n}\n\n/* Estimator-specific */\n#sk-container-id-4 div.sk-estimator {\n  font-family: monospace;\n  border: 1px dotted var(--sklearn-color-border-box);\n  border-radius: 0.25em;\n  box-sizing: border-box;\n  margin-bottom: 0.5em;\n  /* unfitted */\n  background-color: var(--sklearn-color-unfitted-level-0);\n}\n\n#sk-container-id-4 div.sk-estimator.fitted {\n  /* fitted */\n  background-color: var(--sklearn-color-fitted-level-0);\n}\n\n/* on hover */\n#sk-container-id-4 div.sk-estimator:hover {\n  /* unfitted */\n  background-color: var(--sklearn-color-unfitted-level-2);\n}\n\n#sk-container-id-4 div.sk-estimator.fitted:hover {\n  /* fitted */\n  background-color: var(--sklearn-color-fitted-level-2);\n}\n\n/* Specification for estimator info (e.g. \"i\" and \"?\") */\n\n/* Common style for \"i\" and \"?\" */\n\n.sk-estimator-doc-link,\na:link.sk-estimator-doc-link,\na:visited.sk-estimator-doc-link {\n  float: right;\n  font-size: smaller;\n  line-height: 1em;\n  font-family: monospace;\n  background-color: var(--sklearn-color-background);\n  border-radius: 1em;\n  height: 1em;\n  width: 1em;\n  text-decoration: none !important;\n  margin-left: 1ex;\n  /* unfitted */\n  border: var(--sklearn-color-unfitted-level-1) 1pt solid;\n  color: var(--sklearn-color-unfitted-level-1);\n}\n\n.sk-estimator-doc-link.fitted,\na:link.sk-estimator-doc-link.fitted,\na:visited.sk-estimator-doc-link.fitted {\n  /* fitted */\n  border: var(--sklearn-color-fitted-level-1) 1pt solid;\n  color: var(--sklearn-color-fitted-level-1);\n}\n\n/* On hover */\ndiv.sk-estimator:hover .sk-estimator-doc-link:hover,\n.sk-estimator-doc-link:hover,\ndiv.sk-label-container:hover .sk-estimator-doc-link:hover,\n.sk-estimator-doc-link:hover {\n  /* unfitted */\n  background-color: var(--sklearn-color-unfitted-level-3);\n  color: var(--sklearn-color-background);\n  text-decoration: none;\n}\n\ndiv.sk-estimator.fitted:hover .sk-estimator-doc-link.fitted:hover,\n.sk-estimator-doc-link.fitted:hover,\ndiv.sk-label-container:hover .sk-estimator-doc-link.fitted:hover,\n.sk-estimator-doc-link.fitted:hover {\n  /* fitted */\n  background-color: var(--sklearn-color-fitted-level-3);\n  color: var(--sklearn-color-background);\n  text-decoration: none;\n}\n\n/* Span, style for the box shown on hovering the info icon */\n.sk-estimator-doc-link span {\n  display: none;\n  z-index: 9999;\n  position: relative;\n  font-weight: normal;\n  right: .2ex;\n  padding: .5ex;\n  margin: .5ex;\n  width: min-content;\n  min-width: 20ex;\n  max-width: 50ex;\n  color: var(--sklearn-color-text);\n  box-shadow: 2pt 2pt 4pt #999;\n  /* unfitted */\n  background: var(--sklearn-color-unfitted-level-0);\n  border: .5pt solid var(--sklearn-color-unfitted-level-3);\n}\n\n.sk-estimator-doc-link.fitted span {\n  /* fitted */\n  background: var(--sklearn-color-fitted-level-0);\n  border: var(--sklearn-color-fitted-level-3);\n}\n\n.sk-estimator-doc-link:hover span {\n  display: block;\n}\n\n/* \"?\"-specific style due to the `<a>` HTML tag */\n\n#sk-container-id-4 a.estimator_doc_link {\n  float: right;\n  font-size: 1rem;\n  line-height: 1em;\n  font-family: monospace;\n  background-color: var(--sklearn-color-background);\n  border-radius: 1rem;\n  height: 1rem;\n  width: 1rem;\n  text-decoration: none;\n  /* unfitted */\n  color: var(--sklearn-color-unfitted-level-1);\n  border: var(--sklearn-color-unfitted-level-1) 1pt solid;\n}\n\n#sk-container-id-4 a.estimator_doc_link.fitted {\n  /* fitted */\n  border: var(--sklearn-color-fitted-level-1) 1pt solid;\n  color: var(--sklearn-color-fitted-level-1);\n}\n\n/* On hover */\n#sk-container-id-4 a.estimator_doc_link:hover {\n  /* unfitted */\n  background-color: var(--sklearn-color-unfitted-level-3);\n  color: var(--sklearn-color-background);\n  text-decoration: none;\n}\n\n#sk-container-id-4 a.estimator_doc_link.fitted:hover {\n  /* fitted */\n  background-color: var(--sklearn-color-fitted-level-3);\n}\n</style><div id=\"sk-container-id-4\" class=\"sk-top-container\"><div class=\"sk-text-repr-fallback\"><pre>CausalForest(max_depth=5, n_estimators=2500)</pre><b>In a Jupyter environment, please rerun this cell to show the HTML representation or trust the notebook. <br />On GitHub, the HTML representation is unable to render, please try loading this page with nbviewer.org.</b></div><div class=\"sk-container\" hidden><div class=\"sk-item\"><div class=\"sk-estimator fitted sk-toggleable\"><input class=\"sk-toggleable__control sk-hidden--visually\" id=\"sk-estimator-id-4\" type=\"checkbox\" checked><label for=\"sk-estimator-id-4\" class=\"sk-toggleable__label fitted sk-toggleable__label-arrow fitted\">&nbsp;CausalForest<span class=\"sk-estimator-doc-link fitted\">i<span>Fitted</span></span></label><div class=\"sk-toggleable__content fitted\"><pre>CausalForest(max_depth=5, n_estimators=2500)</pre></div> </div></div></div></div>"
     },
     "execution_count": 59,
     "metadata": {},
     "output_type": "execute_result"
    }
   ],
   "source": [
    "# # S-learner\n",
    "# regr_s = RandomForestRegressor(max_depth=5, min_samples_split=5, n_estimators=500, max_samples=0.5)\n",
    "# regr_s.fit(full_data.drop(columns=[\"Y\"]), full_data[\"Y\"])\n",
    "#\n",
    "# # T-learner\n",
    "# regr0_t = RandomForestRegressor(max_depth=3, min_samples_split=5, n_estimators=500, max_samples=0.5)\n",
    "# regr1_t = RandomForestRegressor(max_depth=3, min_samples_split=5, n_estimators=500, max_samples=0.5)\n",
    "# regr0_t.fit(full_data.query(\"W==0\").drop(columns=[\"W\", \"Y\"]), full_data.query(\"W==0\")[\"Y\"])\n",
    "# regr1_t.fit(full_data.query(\"W==1\").drop(columns=[\"W\", \"Y\"]), full_data.query(\"W==1\")[\"Y\"])\n",
    "#\n",
    "# # Causal forest\n",
    "# causal_forest = CausalForest(max_depth=5, min_samples_split=10, n_estimators=2500)\n",
    "# causal_forest.fit(X=full_data.drop(columns=[\"W\", \"Y\"]), T=full_data[\"W\"], y=full_data[\"Y\"])"
   ],
   "metadata": {
    "collapsed": false
   }
  },
  {
   "cell_type": "code",
   "execution_count": 60,
   "outputs": [],
   "source": [
    "# with open(\"pickled_models/causal_forest_model.pkl\", \"wb\") as f:\n",
    "#     pickle.dump(causal_forest, f, protocol=5)\n",
    "#\n",
    "# with open(\"pickled_models/s_learner_model.pkl\", \"wb\") as f:\n",
    "#     pickle.dump(regr_s, f, protocol=5)\n",
    "#\n",
    "# with open(\"pickled_models/t_learner_model_0.pkl\", \"wb\") as f:\n",
    "#     pickle.dump(regr0_t, f, protocol=5)\n",
    "#\n",
    "# with open(\"pickled_models/t_learner_model_1.pkl\", \"wb\") as f:\n",
    "#     pickle.dump(regr1_t, f, protocol=5)"
   ],
   "metadata": {
    "collapsed": false
   }
  },
  {
   "cell_type": "code",
   "execution_count": 61,
   "outputs": [],
   "source": [
    "with open(\"pickled_models/causal_forest_model.pkl\", \"rb\") as f:\n",
    "    causal_forest = pickle.load(f)\n",
    "\n",
    "with open(\"pickled_models/s_learner_model.pkl\", \"rb\") as f:\n",
    "    regr_s = pickle.load(f)\n",
    "\n",
    "with open(\"pickled_models/t_learner_model_0.pkl\", \"rb\") as f:\n",
    "    regr0_t = pickle.load(f)\n",
    "\n",
    "with open(\"pickled_models/t_learner_model_1.pkl\", \"rb\") as f:\n",
    "    regr1_t = pickle.load(f)"
   ],
   "metadata": {
    "collapsed": false
   }
  },
  {
   "cell_type": "code",
   "execution_count": 62,
   "outputs": [
    {
     "data": {
      "text/plain": "array([[-0.20653261],\n       [-0.15808798],\n       [-0.2249416 ],\n       ...,\n       [-0.12809791],\n       [-0.1040518 ],\n       [-0.14148118]])"
     },
     "execution_count": 62,
     "metadata": {},
     "output_type": "execute_result"
    }
   ],
   "source": [
    "causal_forest.predict(X=full_data.drop(columns=[\"W\", \"Y\"]))"
   ],
   "metadata": {
    "collapsed": false
   }
  },
  {
   "cell_type": "code",
   "execution_count": 63,
   "outputs": [
    {
     "data": {
      "text/plain": "array([-0.07236983, -0.07370414, -0.08657526, ..., -0.03767396,\n       -0.04392505, -0.07302504])"
     },
     "execution_count": 63,
     "metadata": {},
     "output_type": "execute_result"
    }
   ],
   "source": [
    "regr_s.predict(full_data.drop(columns=[\"W\", \"Y\"]).assign(**{\"W\": 1})) - regr_s.predict(full_data.drop(columns=[\"W\", \"Y\"]).assign(**{\"W\": 0}))"
   ],
   "metadata": {
    "collapsed": false
   }
  },
  {
   "cell_type": "code",
   "execution_count": 64,
   "outputs": [
    {
     "data": {
      "text/plain": "array([-0.20844512, -0.23685587, -0.29349542, ..., -0.15917994,\n       -0.15326956, -0.30980973])"
     },
     "execution_count": 64,
     "metadata": {},
     "output_type": "execute_result"
    }
   ],
   "source": [
    "regr1_t.predict(full_data.drop(columns=[\"W\", \"Y\"])) - regr0_t.predict(full_data.drop(columns=[\"W\", \"Y\"]))"
   ],
   "metadata": {
    "collapsed": false
   }
  },
  {
   "cell_type": "code",
   "execution_count": 65,
   "outputs": [],
   "source": [
    "def predict_ite_causal_forest(forest_model, data):\n",
    "    \"\"\"\n",
    "    Predicts ITEs using causal forest\n",
    "    :param forest_model: the causal forest model, created using pickle.load()\n",
    "    :param data: pandas dataframe with RCT data, created by for example pandas.read_csv(\"filename\", index_col=0)\n",
    "    :return: Predicted ITEs\n",
    "    \"\"\"\n",
    "\n",
    "    xs = data.drop(columns=[\"peep_regime\", \"mort_28\", \"id\"])\n",
    "    xs.loc[xs[\"sex\"] == \"M\", \"sex\"] = 0\n",
    "    xs.loc[xs[\"sex\"] == \"F\", \"sex\"] = 1\n",
    "    xs_columns = xs.columns\n",
    "\n",
    "    norm_xs = (xs - xs.mean())/xs.std()\n",
    "\n",
    "    imputer = KNNImputer()\n",
    "    imp_xs = imputer.fit_transform(norm_xs)\n",
    "    imp_xs = pd.DataFrame(data=imp_xs, columns=xs_columns)\n",
    "\n",
    "    selected_columns = [\"age\", \"weight\", \"pf_ratio\", \"po2\", \"pco2\", \"driving_pressure\", \"fio2\", \"minute_volume\", \"plateau_pressure\"]\n",
    "    imp_xs = imp_xs[selected_columns]\n",
    "\n",
    "    return forest_model.predict(X=imp_xs)"
   ],
   "metadata": {
    "collapsed": false
   }
  },
  {
   "cell_type": "code",
   "execution_count": 68,
   "outputs": [],
   "source": [
    "def predict_ite_s_learner(s_learner_model, data):\n",
    "    \"\"\"\n",
    "    Predicts ITEs using S-learner\n",
    "    :param s_learner_model: the S-learner model, created using pickle.load()\n",
    "    :param data: pandas dataframe with RCT data, created by for example pandas.read_csv(\"filename\", index_col=0)\n",
    "    :return: Predicted ITEs\n",
    "    \"\"\"\n",
    "\n",
    "    xs = data.drop(columns=[\"peep_regime\", \"mort_28\", \"id\"])\n",
    "    xs.loc[xs[\"sex\"] == \"M\", \"sex\"] = 0\n",
    "    xs.loc[xs[\"sex\"] == \"F\", \"sex\"] = 1\n",
    "    xs_columns = xs.columns\n",
    "\n",
    "    norm_xs = (xs - xs.mean())/xs.std()\n",
    "\n",
    "    imputer = KNNImputer()\n",
    "    imp_xs = imputer.fit_transform(norm_xs)\n",
    "    imp_xs = pd.DataFrame(data=imp_xs, columns=xs_columns)\n",
    "\n",
    "    selected_columns = [\"age\", \"weight\", \"pf_ratio\", \"po2\", \"pco2\", \"driving_pressure\", \"fio2\", \"minute_volume\", \"plateau_pressure\"]\n",
    "    imp_xs = imp_xs[selected_columns]\n",
    "\n",
    "    return s_learner_model.predict(imp_xs.assign(**{\"W\": 1})) - s_learner_model.predict(imp_xs.assign(**{\"W\": 0}))"
   ],
   "metadata": {
    "collapsed": false
   }
  },
  {
   "cell_type": "code",
   "execution_count": 71,
   "outputs": [],
   "source": [
    "def predict_ite_t_learner(t_learner_model_0, t_learner_model_1, data):\n",
    "    \"\"\"\n",
    "    Predicts ITEs using S-learner\n",
    "    :param t_learner_model_0: the T-learner base model for Y_0, created using pickle.load()\n",
    "    :param t_learner_model_1: the T-learner base model for Y_1, created using pickle.load()\n",
    "    :param data: pandas dataframe with RCT data, created by for example pandas.read_csv(\"filename\", index_col=0)\n",
    "    :return: Predicted ITEs\n",
    "    \"\"\"\n",
    "\n",
    "    xs = data.drop(columns=[\"peep_regime\", \"mort_28\", \"id\"])\n",
    "    xs.loc[xs[\"sex\"] == \"M\", \"sex\"] = 0\n",
    "    xs.loc[xs[\"sex\"] == \"F\", \"sex\"] = 1\n",
    "    xs_columns = xs.columns\n",
    "\n",
    "    norm_xs = (xs - xs.mean())/xs.std()\n",
    "\n",
    "    imputer = KNNImputer()\n",
    "    imp_xs = imputer.fit_transform(norm_xs)\n",
    "    imp_xs = pd.DataFrame(data=imp_xs, columns=xs_columns)\n",
    "\n",
    "    selected_columns = [\"age\", \"weight\", \"pf_ratio\", \"po2\", \"pco2\", \"driving_pressure\", \"fio2\", \"minute_volume\", \"plateau_pressure\"]\n",
    "    imp_xs = imp_xs[selected_columns]\n",
    "\n",
    "    return t_learner_model_1.predict(imp_xs) - t_learner_model_0.predict(imp_xs)"
   ],
   "metadata": {
    "collapsed": false
   }
  },
  {
   "cell_type": "markdown",
   "source": [
    "# Evaluate"
   ],
   "metadata": {
    "collapsed": false
   }
  },
  {
   "cell_type": "code",
   "execution_count": 74,
   "outputs": [],
   "source": [
    "s_learner_ite = []\n",
    "t_learner_ite = []\n",
    "causal_forest_ite = []\n",
    "real_w = []\n",
    "real_y = []"
   ],
   "metadata": {
    "collapsed": false
   }
  },
  {
   "cell_type": "code",
   "execution_count": 76,
   "outputs": [
    {
     "name": "stdout",
     "output_type": "stream",
     "text": [
      "Real ATE: nan\n",
      "S-learner predicted ATE: nan\n",
      "T-learner predicted ATE: nan\n",
      "Causal forest predicted ATE: nan\n"
     ]
    },
    {
     "name": "stderr",
     "output_type": "stream",
     "text": [
      "D:\\Delft\\Year 3\\Q4\\code\\research-project\\venv\\Lib\\site-packages\\numpy\\core\\fromnumeric.py:3504: RuntimeWarning: Mean of empty slice.\n",
      "  return _methods._mean(a, axis=axis, dtype=dtype,\n",
      "D:\\Delft\\Year 3\\Q4\\code\\research-project\\venv\\Lib\\site-packages\\numpy\\core\\_methods.py:129: RuntimeWarning: invalid value encountered in scalar divide\n",
      "  ret = ret.dtype.type(ret / rcount)\n"
     ]
    }
   ],
   "source": [
    "observed_data = pd.DataFrame.from_dict({\"W\": real_w, \"Y\": real_y}, orient=\"columns\")\n",
    "\n",
    "print(\"ATE:\")\n",
    "print(f\"Real: {np.mean(observed_data.query('W==1')['Y']) - np.mean(observed_data.query('W==0')['Y'])}\")\n",
    "print(f\"S-learner: {np.mean(s_learner_ite)}\")\n",
    "print(f\"T-learner: {np.mean(t_learner_ite)}\")\n",
    "print(f\"Causal forest: {np.mean(causal_forest_ite)}\")"
   ],
   "metadata": {
    "collapsed": false
   }
  },
  {
   "cell_type": "code",
   "execution_count": null,
   "outputs": [],
   "source": [
    "fig, ax = plt.subplots(1, 1)\n",
    "plot_qini_curve(y_true=real_y, uplift=s_learner_ite, treatment=real_w, perfect=False, random=False, name=\"S-learner\", ax=ax)\n",
    "\n",
    "plot_qini_curve(y_true=real_y, uplift=t_learner_ite, treatment=real_w, perfect=False, random=False, name=\"T-learner\", ax=ax)\n",
    "\n",
    "plot_qini_curve(y_true=real_y, uplift=causal_forest_ite, treatment=real_w, perfect=False, name=\"Causal Forest\", ax=ax)"
   ],
   "metadata": {
    "collapsed": false
   }
  },
  {
   "cell_type": "code",
   "execution_count": null,
   "outputs": [],
   "source": [
    "print(\"Qini AUC score:\")\n",
    "print(f\"S-learner: {qini_auc_score(y_true=real_y, uplift=s_learner_ite, treatment=real_w)}\")\n",
    "print(f\"T-learner: {qini_auc_score(y_true=real_y, uplift=t_learner_ite, treatment=real_w)}\")\n",
    "print(f\"Causal forest: {qini_auc_score(y_true=real_y, uplift=causal_forest_ite, treatment=real_w)}\")"
   ],
   "metadata": {
    "collapsed": false
   }
  }
 ],
 "metadata": {
  "kernelspec": {
   "display_name": "Python 3",
   "language": "python",
   "name": "python3"
  },
  "language_info": {
   "codemirror_mode": {
    "name": "ipython",
    "version": 2
   },
   "file_extension": ".py",
   "mimetype": "text/x-python",
   "name": "python",
   "nbconvert_exporter": "python",
   "pygments_lexer": "ipython2",
   "version": "2.7.6"
  }
 },
 "nbformat": 4,
 "nbformat_minor": 0
}
