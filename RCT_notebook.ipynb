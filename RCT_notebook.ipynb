{
 "cells": [
  {
   "cell_type": "code",
   "execution_count": 1,
   "metadata": {
    "collapsed": true
   },
   "outputs": [],
   "source": [
    "import numpy as np\n",
    "import pandas as pd\n",
    "import pickle\n",
    "from sklearn.preprocessing import StandardScaler\n",
    "from sklearn.impute import KNNImputer\n",
    "from sklearn.ensemble import RandomForestRegressor\n",
    "from sklearn.model_selection import train_test_split\n",
    "from econml.grf import CausalForest\n",
    "from sklift.metrics import qini_auc_score\n",
    "from sklift.viz import plot_qini_curve\n",
    "\n",
    "from matplotlib import pyplot as plt"
   ]
  },
  {
   "cell_type": "markdown",
   "source": [
    "# Data pre-processing steps"
   ],
   "metadata": {
    "collapsed": false
   }
  },
  {
   "cell_type": "code",
   "execution_count": 2,
   "outputs": [
    {
     "data": {
      "text/plain": "           age    weight  pf_ratio       po2      pco2  driving_pressure  \\\n0     0.732971  0.183841 -0.026374 -0.049713 -1.422636         -0.364306   \n1    -1.005004  1.422974 -0.637005 -0.385550 -0.768253         -1.141620   \n2     1.353676 -0.381057 -0.171336 -0.406111 -0.403630          1.468983   \n3     1.353676  0.100018 -0.319055 -1.169822 -0.403630          1.395651   \n4     0.050195 -0.654395 -0.577049 -0.737052 -0.334933         -1.072479   \n...        ...       ...       ...       ...       ...               ...   \n3936  0.919183 -1.128181 -0.711144  0.068026 -0.395043          1.219655   \n3937  0.732971  0.475402 -0.527518 -0.793421 -0.300585         -0.540301   \n3938  0.236407  0.438957 -0.701828 -0.554080  0.137359          0.281012   \n3939  0.298477  0.245798 -0.425805 -0.814696 -0.156321          0.075683   \n3940 -0.322228 -0.381057 -0.715198 -0.259733 -0.403630          0.222346   \n\n          fio2  minute_volume  plateau_pressure  \n0    -0.564826      -0.543738          0.705302  \n1     0.758913       3.032717         -0.620678  \n2    -0.434729      -0.035368          0.317210  \n3    -1.503965      -0.868889          0.640620  \n4    -0.385943      -1.051634         -1.236080  \n...        ...            ...               ...  \n3936  0.541000      -0.428608          0.252528  \n3937 -0.411497      -0.966353         -1.028174  \n3938  1.377339      -0.299739          1.869576  \n3939  0.150708      -0.298318          0.113924  \n3940  0.205750       0.242810         -0.640082  \n\n[3941 rows x 9 columns]",
      "text/html": "<div>\n<style scoped>\n    .dataframe tbody tr th:only-of-type {\n        vertical-align: middle;\n    }\n\n    .dataframe tbody tr th {\n        vertical-align: top;\n    }\n\n    .dataframe thead th {\n        text-align: right;\n    }\n</style>\n<table border=\"1\" class=\"dataframe\">\n  <thead>\n    <tr style=\"text-align: right;\">\n      <th></th>\n      <th>age</th>\n      <th>weight</th>\n      <th>pf_ratio</th>\n      <th>po2</th>\n      <th>pco2</th>\n      <th>driving_pressure</th>\n      <th>fio2</th>\n      <th>minute_volume</th>\n      <th>plateau_pressure</th>\n    </tr>\n  </thead>\n  <tbody>\n    <tr>\n      <th>0</th>\n      <td>0.732971</td>\n      <td>0.183841</td>\n      <td>-0.026374</td>\n      <td>-0.049713</td>\n      <td>-1.422636</td>\n      <td>-0.364306</td>\n      <td>-0.564826</td>\n      <td>-0.543738</td>\n      <td>0.705302</td>\n    </tr>\n    <tr>\n      <th>1</th>\n      <td>-1.005004</td>\n      <td>1.422974</td>\n      <td>-0.637005</td>\n      <td>-0.385550</td>\n      <td>-0.768253</td>\n      <td>-1.141620</td>\n      <td>0.758913</td>\n      <td>3.032717</td>\n      <td>-0.620678</td>\n    </tr>\n    <tr>\n      <th>2</th>\n      <td>1.353676</td>\n      <td>-0.381057</td>\n      <td>-0.171336</td>\n      <td>-0.406111</td>\n      <td>-0.403630</td>\n      <td>1.468983</td>\n      <td>-0.434729</td>\n      <td>-0.035368</td>\n      <td>0.317210</td>\n    </tr>\n    <tr>\n      <th>3</th>\n      <td>1.353676</td>\n      <td>0.100018</td>\n      <td>-0.319055</td>\n      <td>-1.169822</td>\n      <td>-0.403630</td>\n      <td>1.395651</td>\n      <td>-1.503965</td>\n      <td>-0.868889</td>\n      <td>0.640620</td>\n    </tr>\n    <tr>\n      <th>4</th>\n      <td>0.050195</td>\n      <td>-0.654395</td>\n      <td>-0.577049</td>\n      <td>-0.737052</td>\n      <td>-0.334933</td>\n      <td>-1.072479</td>\n      <td>-0.385943</td>\n      <td>-1.051634</td>\n      <td>-1.236080</td>\n    </tr>\n    <tr>\n      <th>...</th>\n      <td>...</td>\n      <td>...</td>\n      <td>...</td>\n      <td>...</td>\n      <td>...</td>\n      <td>...</td>\n      <td>...</td>\n      <td>...</td>\n      <td>...</td>\n    </tr>\n    <tr>\n      <th>3936</th>\n      <td>0.919183</td>\n      <td>-1.128181</td>\n      <td>-0.711144</td>\n      <td>0.068026</td>\n      <td>-0.395043</td>\n      <td>1.219655</td>\n      <td>0.541000</td>\n      <td>-0.428608</td>\n      <td>0.252528</td>\n    </tr>\n    <tr>\n      <th>3937</th>\n      <td>0.732971</td>\n      <td>0.475402</td>\n      <td>-0.527518</td>\n      <td>-0.793421</td>\n      <td>-0.300585</td>\n      <td>-0.540301</td>\n      <td>-0.411497</td>\n      <td>-0.966353</td>\n      <td>-1.028174</td>\n    </tr>\n    <tr>\n      <th>3938</th>\n      <td>0.236407</td>\n      <td>0.438957</td>\n      <td>-0.701828</td>\n      <td>-0.554080</td>\n      <td>0.137359</td>\n      <td>0.281012</td>\n      <td>1.377339</td>\n      <td>-0.299739</td>\n      <td>1.869576</td>\n    </tr>\n    <tr>\n      <th>3939</th>\n      <td>0.298477</td>\n      <td>0.245798</td>\n      <td>-0.425805</td>\n      <td>-0.814696</td>\n      <td>-0.156321</td>\n      <td>0.075683</td>\n      <td>0.150708</td>\n      <td>-0.298318</td>\n      <td>0.113924</td>\n    </tr>\n    <tr>\n      <th>3940</th>\n      <td>-0.322228</td>\n      <td>-0.381057</td>\n      <td>-0.715198</td>\n      <td>-0.259733</td>\n      <td>-0.403630</td>\n      <td>0.222346</td>\n      <td>0.205750</td>\n      <td>0.242810</td>\n      <td>-0.640082</td>\n    </tr>\n  </tbody>\n</table>\n<p>3941 rows × 9 columns</p>\n</div>"
     },
     "execution_count": 2,
     "metadata": {},
     "output_type": "execute_result"
    }
   ],
   "source": [
    "# Usual pre-processing\n",
    "data = pd.read_csv(\"bsc_project_set.csv\", index_col=0)\n",
    "\n",
    "xs = data.copy()\n",
    "\n",
    "y = xs[\"mort_28\"]\n",
    "w = xs[\"peep_regime\"]\n",
    "\n",
    "w = pd.Series(map(lambda x: 0 if x == \"low\" else 1, w))\n",
    "y = pd.Series(map(lambda x: 1 if x == False else 0, y))\n",
    "\n",
    "selected_columns = [\"age\", \"weight\", \"pf_ratio\", \"po2\", \"pco2\", \"driving_pressure\", \"fio2\", \"minute_volume\", \"plateau_pressure\"]\n",
    "xs = xs[selected_columns]\n",
    "columns_x = xs.columns\n",
    "\n",
    "norm_xs = (xs - xs.mean())/xs.std()\n",
    "\n",
    "imputer = KNNImputer(n_neighbors=2, weights=\"uniform\")\n",
    "imp_xs = imputer.fit_transform(norm_xs)\n",
    "\n",
    "imp_xs = pd.DataFrame(data=imp_xs, columns=columns_x)\n",
    "\n",
    "imp_xs"
   ],
   "metadata": {
    "collapsed": false
   }
  },
  {
   "cell_type": "code",
   "execution_count": 2,
   "outputs": [
    {
     "data": {
      "text/plain": "           age    weight  pf_ratio       po2      pco2  driving_pressure  \\\n0     0.733064  0.183865 -0.026378 -0.049720 -1.422823         -0.364361   \n1    -1.005132  1.423155 -0.637093 -0.385601 -0.768354         -1.141794   \n2     1.353848 -0.381106 -0.171360 -0.406165 -0.403683          1.469207   \n3     1.353848  0.100031 -0.319099 -1.169976 -0.403683          1.395864   \n4     0.050201 -0.654478 -0.577129 -0.737150 -0.334977         -1.072642   \n...        ...       ...       ...       ...       ...               ...   \n3936  0.919299 -1.128325 -0.711242  0.068035 -0.395095          1.219841   \n3937  0.733064  0.475462 -0.527592 -0.793526 -0.300624         -0.540384   \n3938  0.236437  0.439013 -0.701926 -0.554153  0.137377          0.281055   \n3939  0.298515  0.245829 -0.425864 -0.814804 -0.156342          0.075695   \n3940 -0.322269 -0.381106 -0.715297 -0.259768 -0.403683          0.222380   \n\n          fio2  minute_volume  plateau_pressure  \n0    -0.564899      -0.543810          0.705400  \n1     0.759011       3.033123         -0.620764  \n2    -0.434785      -0.035373          0.317254  \n3    -1.504160      -0.869005          0.640709  \n4    -0.385993      -1.051774         -1.236251  \n...        ...            ...               ...  \n3936  0.541070      -0.428666          0.252563  \n3937 -0.411551      -0.966482         -1.028316  \n3938  1.377518      -0.299779          1.869836  \n3939  0.150728      -0.298358          0.113940  \n3940  0.205776       0.242843         -0.640171  \n\n[3941 rows x 9 columns]",
      "text/html": "<div>\n<style scoped>\n    .dataframe tbody tr th:only-of-type {\n        vertical-align: middle;\n    }\n\n    .dataframe tbody tr th {\n        vertical-align: top;\n    }\n\n    .dataframe thead th {\n        text-align: right;\n    }\n</style>\n<table border=\"1\" class=\"dataframe\">\n  <thead>\n    <tr style=\"text-align: right;\">\n      <th></th>\n      <th>age</th>\n      <th>weight</th>\n      <th>pf_ratio</th>\n      <th>po2</th>\n      <th>pco2</th>\n      <th>driving_pressure</th>\n      <th>fio2</th>\n      <th>minute_volume</th>\n      <th>plateau_pressure</th>\n    </tr>\n  </thead>\n  <tbody>\n    <tr>\n      <th>0</th>\n      <td>0.733064</td>\n      <td>0.183865</td>\n      <td>-0.026378</td>\n      <td>-0.049720</td>\n      <td>-1.422823</td>\n      <td>-0.364361</td>\n      <td>-0.564899</td>\n      <td>-0.543810</td>\n      <td>0.705400</td>\n    </tr>\n    <tr>\n      <th>1</th>\n      <td>-1.005132</td>\n      <td>1.423155</td>\n      <td>-0.637093</td>\n      <td>-0.385601</td>\n      <td>-0.768354</td>\n      <td>-1.141794</td>\n      <td>0.759011</td>\n      <td>3.033123</td>\n      <td>-0.620764</td>\n    </tr>\n    <tr>\n      <th>2</th>\n      <td>1.353848</td>\n      <td>-0.381106</td>\n      <td>-0.171360</td>\n      <td>-0.406165</td>\n      <td>-0.403683</td>\n      <td>1.469207</td>\n      <td>-0.434785</td>\n      <td>-0.035373</td>\n      <td>0.317254</td>\n    </tr>\n    <tr>\n      <th>3</th>\n      <td>1.353848</td>\n      <td>0.100031</td>\n      <td>-0.319099</td>\n      <td>-1.169976</td>\n      <td>-0.403683</td>\n      <td>1.395864</td>\n      <td>-1.504160</td>\n      <td>-0.869005</td>\n      <td>0.640709</td>\n    </tr>\n    <tr>\n      <th>4</th>\n      <td>0.050201</td>\n      <td>-0.654478</td>\n      <td>-0.577129</td>\n      <td>-0.737150</td>\n      <td>-0.334977</td>\n      <td>-1.072642</td>\n      <td>-0.385993</td>\n      <td>-1.051774</td>\n      <td>-1.236251</td>\n    </tr>\n    <tr>\n      <th>...</th>\n      <td>...</td>\n      <td>...</td>\n      <td>...</td>\n      <td>...</td>\n      <td>...</td>\n      <td>...</td>\n      <td>...</td>\n      <td>...</td>\n      <td>...</td>\n    </tr>\n    <tr>\n      <th>3936</th>\n      <td>0.919299</td>\n      <td>-1.128325</td>\n      <td>-0.711242</td>\n      <td>0.068035</td>\n      <td>-0.395095</td>\n      <td>1.219841</td>\n      <td>0.541070</td>\n      <td>-0.428666</td>\n      <td>0.252563</td>\n    </tr>\n    <tr>\n      <th>3937</th>\n      <td>0.733064</td>\n      <td>0.475462</td>\n      <td>-0.527592</td>\n      <td>-0.793526</td>\n      <td>-0.300624</td>\n      <td>-0.540384</td>\n      <td>-0.411551</td>\n      <td>-0.966482</td>\n      <td>-1.028316</td>\n    </tr>\n    <tr>\n      <th>3938</th>\n      <td>0.236437</td>\n      <td>0.439013</td>\n      <td>-0.701926</td>\n      <td>-0.554153</td>\n      <td>0.137377</td>\n      <td>0.281055</td>\n      <td>1.377518</td>\n      <td>-0.299779</td>\n      <td>1.869836</td>\n    </tr>\n    <tr>\n      <th>3939</th>\n      <td>0.298515</td>\n      <td>0.245829</td>\n      <td>-0.425864</td>\n      <td>-0.814804</td>\n      <td>-0.156342</td>\n      <td>0.075695</td>\n      <td>0.150728</td>\n      <td>-0.298358</td>\n      <td>0.113940</td>\n    </tr>\n    <tr>\n      <th>3940</th>\n      <td>-0.322269</td>\n      <td>-0.381106</td>\n      <td>-0.715297</td>\n      <td>-0.259768</td>\n      <td>-0.403683</td>\n      <td>0.222380</td>\n      <td>0.205776</td>\n      <td>0.242843</td>\n      <td>-0.640171</td>\n    </tr>\n  </tbody>\n</table>\n<p>3941 rows × 9 columns</p>\n</div>"
     },
     "execution_count": 2,
     "metadata": {},
     "output_type": "execute_result"
    }
   ],
   "source": [
    "# Pre-processing with scaling with StandardScaler\n",
    "data = pd.read_csv(\"bsc_project_set.csv\", index_col=0)\n",
    "\n",
    "xs = data.copy()\n",
    "\n",
    "selected_columns = [\"age\", \"weight\", \"pf_ratio\", \"po2\", \"pco2\", \"driving_pressure\", \"fio2\", \"minute_volume\", \"plateau_pressure\"]\n",
    "xs = xs[selected_columns]\n",
    "columns_x = xs.columns\n",
    "\n",
    "scaler = StandardScaler()\n",
    "norm_xs = scaler.fit_transform(X=xs)\n",
    "\n",
    "imputer = KNNImputer(n_neighbors=2, weights=\"uniform\")\n",
    "imp_xs = imputer.fit_transform(norm_xs)\n",
    "\n",
    "imp_xs = pd.DataFrame(data=imp_xs, columns=columns_x)\n",
    "\n",
    "imp_xs"
   ],
   "metadata": {
    "collapsed": false
   }
  },
  {
   "cell_type": "code",
   "execution_count": 3,
   "outputs": [],
   "source": [
    "# Save imputer and scaler to files\n",
    "with open(\"improved_pickled_models/knn_imputer.pkl\", \"wb\") as f:\n",
    "    pickle.dump(imputer, f, protocol=5)\n",
    "\n",
    "with open(\"improved_pickled_models/standard_scaler.pkl\", \"wb\") as f:\n",
    "    pickle.dump(scaler, f, protocol=5)"
   ],
   "metadata": {
    "collapsed": false
   }
  },
  {
   "cell_type": "code",
   "execution_count": 4,
   "outputs": [],
   "source": [
    "with open(\"improved_pickled_models/knn_imputer.pkl\", \"rb\") as f:\n",
    "    read_knn_imputer = pickle.load(f)\n",
    "\n",
    "with open(\"improved_pickled_models/standard_scaler.pkl\", \"rb\") as f:\n",
    "    read_standard_scaler = pickle.load(f)"
   ],
   "metadata": {
    "collapsed": false
   }
  },
  {
   "cell_type": "code",
   "execution_count": 5,
   "outputs": [
    {
     "data": {
      "text/plain": "           age    weight  pf_ratio       po2      pco2  driving_pressure  \\\n0     0.733064  0.183865 -0.026378 -0.049720 -1.422823         -0.364361   \n1    -1.005132  1.423155 -0.637093 -0.385601 -0.768354         -1.141794   \n2     1.353848 -0.381106 -0.171360 -0.406165 -0.403683          1.469207   \n3     1.353848  0.100031 -0.319099 -1.169976 -0.403683          1.395864   \n4     0.050201 -0.654478 -0.577129 -0.737150 -0.334977         -1.072642   \n...        ...       ...       ...       ...       ...               ...   \n3936  0.919299 -1.128325 -0.711242  0.068035 -0.395095          1.219841   \n3937  0.733064  0.475462 -0.527592 -0.793526 -0.300624         -0.540384   \n3938  0.236437  0.439013 -0.701926 -0.554153  0.137377          0.281055   \n3939  0.298515  0.245829 -0.425864 -0.814804 -0.156342          0.075695   \n3940 -0.322269 -0.381106 -0.715297 -0.259768 -0.403683          0.222380   \n\n          fio2  minute_volume  plateau_pressure  \n0    -0.564899      -0.543810          0.705400  \n1     0.759011       3.033123         -0.620764  \n2    -0.434785      -0.035373          0.317254  \n3    -1.504160      -0.869005          0.640709  \n4    -0.385993      -1.051774         -1.236251  \n...        ...            ...               ...  \n3936  0.541070      -0.428666          0.252563  \n3937 -0.411551      -0.966482         -1.028316  \n3938  1.377518      -0.299779          1.869836  \n3939  0.150728      -0.298358          0.113940  \n3940  0.205776       0.242843         -0.640171  \n\n[3941 rows x 9 columns]",
      "text/html": "<div>\n<style scoped>\n    .dataframe tbody tr th:only-of-type {\n        vertical-align: middle;\n    }\n\n    .dataframe tbody tr th {\n        vertical-align: top;\n    }\n\n    .dataframe thead th {\n        text-align: right;\n    }\n</style>\n<table border=\"1\" class=\"dataframe\">\n  <thead>\n    <tr style=\"text-align: right;\">\n      <th></th>\n      <th>age</th>\n      <th>weight</th>\n      <th>pf_ratio</th>\n      <th>po2</th>\n      <th>pco2</th>\n      <th>driving_pressure</th>\n      <th>fio2</th>\n      <th>minute_volume</th>\n      <th>plateau_pressure</th>\n    </tr>\n  </thead>\n  <tbody>\n    <tr>\n      <th>0</th>\n      <td>0.733064</td>\n      <td>0.183865</td>\n      <td>-0.026378</td>\n      <td>-0.049720</td>\n      <td>-1.422823</td>\n      <td>-0.364361</td>\n      <td>-0.564899</td>\n      <td>-0.543810</td>\n      <td>0.705400</td>\n    </tr>\n    <tr>\n      <th>1</th>\n      <td>-1.005132</td>\n      <td>1.423155</td>\n      <td>-0.637093</td>\n      <td>-0.385601</td>\n      <td>-0.768354</td>\n      <td>-1.141794</td>\n      <td>0.759011</td>\n      <td>3.033123</td>\n      <td>-0.620764</td>\n    </tr>\n    <tr>\n      <th>2</th>\n      <td>1.353848</td>\n      <td>-0.381106</td>\n      <td>-0.171360</td>\n      <td>-0.406165</td>\n      <td>-0.403683</td>\n      <td>1.469207</td>\n      <td>-0.434785</td>\n      <td>-0.035373</td>\n      <td>0.317254</td>\n    </tr>\n    <tr>\n      <th>3</th>\n      <td>1.353848</td>\n      <td>0.100031</td>\n      <td>-0.319099</td>\n      <td>-1.169976</td>\n      <td>-0.403683</td>\n      <td>1.395864</td>\n      <td>-1.504160</td>\n      <td>-0.869005</td>\n      <td>0.640709</td>\n    </tr>\n    <tr>\n      <th>4</th>\n      <td>0.050201</td>\n      <td>-0.654478</td>\n      <td>-0.577129</td>\n      <td>-0.737150</td>\n      <td>-0.334977</td>\n      <td>-1.072642</td>\n      <td>-0.385993</td>\n      <td>-1.051774</td>\n      <td>-1.236251</td>\n    </tr>\n    <tr>\n      <th>...</th>\n      <td>...</td>\n      <td>...</td>\n      <td>...</td>\n      <td>...</td>\n      <td>...</td>\n      <td>...</td>\n      <td>...</td>\n      <td>...</td>\n      <td>...</td>\n    </tr>\n    <tr>\n      <th>3936</th>\n      <td>0.919299</td>\n      <td>-1.128325</td>\n      <td>-0.711242</td>\n      <td>0.068035</td>\n      <td>-0.395095</td>\n      <td>1.219841</td>\n      <td>0.541070</td>\n      <td>-0.428666</td>\n      <td>0.252563</td>\n    </tr>\n    <tr>\n      <th>3937</th>\n      <td>0.733064</td>\n      <td>0.475462</td>\n      <td>-0.527592</td>\n      <td>-0.793526</td>\n      <td>-0.300624</td>\n      <td>-0.540384</td>\n      <td>-0.411551</td>\n      <td>-0.966482</td>\n      <td>-1.028316</td>\n    </tr>\n    <tr>\n      <th>3938</th>\n      <td>0.236437</td>\n      <td>0.439013</td>\n      <td>-0.701926</td>\n      <td>-0.554153</td>\n      <td>0.137377</td>\n      <td>0.281055</td>\n      <td>1.377518</td>\n      <td>-0.299779</td>\n      <td>1.869836</td>\n    </tr>\n    <tr>\n      <th>3939</th>\n      <td>0.298515</td>\n      <td>0.245829</td>\n      <td>-0.425864</td>\n      <td>-0.814804</td>\n      <td>-0.156342</td>\n      <td>0.075695</td>\n      <td>0.150728</td>\n      <td>-0.298358</td>\n      <td>0.113940</td>\n    </tr>\n    <tr>\n      <th>3940</th>\n      <td>-0.322269</td>\n      <td>-0.381106</td>\n      <td>-0.715297</td>\n      <td>-0.259768</td>\n      <td>-0.403683</td>\n      <td>0.222380</td>\n      <td>0.205776</td>\n      <td>0.242843</td>\n      <td>-0.640171</td>\n    </tr>\n  </tbody>\n</table>\n<p>3941 rows × 9 columns</p>\n</div>"
     },
     "execution_count": 5,
     "metadata": {},
     "output_type": "execute_result"
    }
   ],
   "source": [
    "# Sanity check that preprocessing with scaler & imputer from files give the same results\n",
    "\n",
    "# data = pd.read_csv(\"bsc_project_set.csv\", index_col=0)\n",
    "#\n",
    "# xs = data.copy()\n",
    "#\n",
    "# # xs = xs.drop(columns=[\"id\", \"mort_28\", \"peep\", \"peep_regime\"])\n",
    "# selected_columns = [\"age\", \"weight\", \"pf_ratio\", \"po2\", \"pco2\", \"driving_pressure\", \"fio2\", \"minute_volume\", \"plateau_pressure\"]\n",
    "# xs = xs[selected_columns]\n",
    "# columns_x = xs.columns\n",
    "#\n",
    "# norm_xs = read_standard_scaler.transform(X=xs)\n",
    "#\n",
    "# imp_xs = read_knn_imputer.transform(X=norm_xs)\n",
    "#\n",
    "# imp_xs = pd.DataFrame(data=imp_xs, columns=columns_x)\n",
    "#\n",
    "# imp_xs"
   ],
   "metadata": {
    "collapsed": false
   }
  },
  {
   "cell_type": "markdown",
   "source": [
    "# Train models"
   ],
   "metadata": {
    "collapsed": false
   }
  },
  {
   "cell_type": "code",
   "execution_count": 10,
   "outputs": [],
   "source": [
    "full_data = imp_xs.assign(W=w, Y=y)"
   ],
   "metadata": {
    "collapsed": false
   }
  },
  {
   "cell_type": "code",
   "execution_count": 27,
   "outputs": [],
   "source": [
    "def find_best_s_learner(data, reps):\n",
    "    best_area = 0\n",
    "    best_model = None\n",
    "    for i in range(reps):\n",
    "        train, test = train_test_split(data, test_size=0.3)\n",
    "        test_x = test[columns_x]\n",
    "\n",
    "        regr_s = RandomForestRegressor(max_depth=5, min_samples_split=5, n_estimators=500, max_samples=0.5)\n",
    "        regr_s.fit(train.drop(columns=[\"Y\"]), train[\"Y\"])\n",
    "\n",
    "        cur_area = qini_auc_score(y_true=test[\"Y\"].to_list(), uplift=regr_s.predict(test_x.assign(**{\"W\": 1})) - regr_s.predict(test_x.assign(**{\"W\": 0})), treatment=test[\"W\"].to_list())\n",
    "\n",
    "        if cur_area > best_area:\n",
    "            best_model = regr_s\n",
    "            best_area = cur_area\n",
    "\n",
    "    return best_model, best_area"
   ],
   "metadata": {
    "collapsed": false
   }
  },
  {
   "cell_type": "code",
   "execution_count": 28,
   "outputs": [],
   "source": [
    "def find_best_t_learner(data, reps):\n",
    "    best_area = 0\n",
    "    best_model_0 = None\n",
    "    best_model_1 = None\n",
    "    for i in range(reps):\n",
    "        train, test = train_test_split(data, test_size=0.3)\n",
    "        test_x = test[columns_x]\n",
    "\n",
    "        regr0_t = RandomForestRegressor(max_depth=3, min_samples_split=5, n_estimators=500, max_samples=0.5)\n",
    "        regr1_t = RandomForestRegressor(max_depth=3, min_samples_split=5, n_estimators=500, max_samples=0.5)\n",
    "        regr0_t.fit(train.query(\"W==0\").drop(columns=[\"W\", \"Y\"]), train.query(\"W==0\")[\"Y\"])\n",
    "        regr1_t.fit(train.query(\"W==1\").drop(columns=[\"W\", \"Y\"]), train.query(\"W==1\")[\"Y\"])\n",
    "\n",
    "        cur_area = qini_auc_score(y_true=test[\"Y\"].to_list(), uplift=(regr1_t.predict(test_x) - regr0_t.predict(test_x)).tolist(), treatment=test[\"W\"].to_list())\n",
    "\n",
    "        if cur_area > best_area:\n",
    "            best_model_0 = regr0_t\n",
    "            best_model_1 = regr1_t\n",
    "            best_area = cur_area\n",
    "\n",
    "    return best_model_0, best_model_1, best_area"
   ],
   "metadata": {
    "collapsed": false
   }
  },
  {
   "cell_type": "code",
   "execution_count": 29,
   "outputs": [],
   "source": [
    "def find_best_causal_forest(data, reps):\n",
    "    best_area = 0\n",
    "    best_model = None\n",
    "    for i in range(reps):\n",
    "        train, test = train_test_split(data, test_size=0.3)\n",
    "        train_x = train[columns_x]\n",
    "        test_x = test[columns_x]\n",
    "\n",
    "        forest = CausalForest(max_depth=5, min_samples_split=10, n_estimators=2500)\n",
    "        forest.fit(X=train_x, T=train[\"W\"], y=train[\"Y\"])\n",
    "\n",
    "        cur_area = qini_auc_score(y_true=test[\"Y\"].to_list(), uplift=np.concatenate(forest.predict(X=test_x)).tolist(), treatment=test[\"W\"].to_list())\n",
    "\n",
    "        if cur_area > best_area:\n",
    "            best_model = forest\n",
    "            best_area = cur_area\n",
    "\n",
    "    return best_model, best_area"
   ],
   "metadata": {
    "collapsed": false
   }
  },
  {
   "cell_type": "code",
   "execution_count": 34,
   "outputs": [
    {
     "name": "stdout",
     "output_type": "stream",
     "text": [
      "0.11265523709794854\n"
     ]
    }
   ],
   "source": [
    "best_s_learner, best_s_learner_area = find_best_s_learner(full_data, 500)\n",
    "print(best_s_learner_area)"
   ],
   "metadata": {
    "collapsed": false
   }
  },
  {
   "cell_type": "code",
   "execution_count": 35,
   "outputs": [
    {
     "name": "stdout",
     "output_type": "stream",
     "text": [
      "0.1151746443677528\n"
     ]
    }
   ],
   "source": [
    "best_t_learner_0, best_t_learner_1, best_t_learner_area = find_best_t_learner(full_data, 500)\n",
    "print(best_t_learner_area)"
   ],
   "metadata": {
    "collapsed": false
   }
  },
  {
   "cell_type": "code",
   "execution_count": 36,
   "outputs": [
    {
     "name": "stdout",
     "output_type": "stream",
     "text": [
      "0.07339669352734574\n"
     ]
    }
   ],
   "source": [
    "best_causal_forest, best_causal_forest_area = find_best_causal_forest(full_data, 500)\n",
    "print(best_causal_forest_area)"
   ],
   "metadata": {
    "collapsed": false
   }
  },
  {
   "cell_type": "code",
   "execution_count": 38,
   "outputs": [],
   "source": [
    "# Save best found models to files\n",
    "with open(\"improved_pickled_models/causal_forest_model.pkl\", \"wb\") as f:\n",
    "    pickle.dump(best_causal_forest, f, protocol=5)\n",
    "\n",
    "with open(\"improved_pickled_models/s_learner_model.pkl\", \"wb\") as f:\n",
    "    pickle.dump(best_s_learner, f, protocol=5)\n",
    "\n",
    "with open(\"improved_pickled_models/t_learner_model_0.pkl\", \"wb\") as f:\n",
    "    pickle.dump(best_t_learner_0, f, protocol=5)\n",
    "\n",
    "with open(\"improved_pickled_models/t_learner_model_1.pkl\", \"wb\") as f:\n",
    "    pickle.dump(best_t_learner_1, f, protocol=5)"
   ],
   "metadata": {
    "collapsed": false
   }
  },
  {
   "cell_type": "code",
   "execution_count": 3,
   "outputs": [],
   "source": [
    "with open(\"improved_pickled_models/causal_forest_model.pkl\", \"rb\") as f:\n",
    "    causal_forest = pickle.load(f)\n",
    "\n",
    "with open(\"improved_pickled_models/s_learner_model.pkl\", \"rb\") as f:\n",
    "    regr_s = pickle.load(f)\n",
    "\n",
    "with open(\"improved_pickled_models/t_learner_model_0.pkl\", \"rb\") as f:\n",
    "    regr0_t = pickle.load(f)\n",
    "\n",
    "with open(\"improved_pickled_models/t_learner_model_1.pkl\", \"rb\") as f:\n",
    "    regr1_t = pickle.load(f)"
   ],
   "metadata": {
    "collapsed": false
   }
  },
  {
   "cell_type": "code",
   "execution_count": 8,
   "outputs": [
    {
     "data": {
      "text/plain": "      cf_preds\n0    -0.144321\n1    -0.145304\n2    -0.136022\n3    -0.154283\n4    -0.111261\n...        ...\n3936 -0.153458\n3937 -0.123807\n3938 -0.112349\n3939 -0.091624\n3940 -0.110394\n\n[3941 rows x 1 columns]",
      "text/html": "<div>\n<style scoped>\n    .dataframe tbody tr th:only-of-type {\n        vertical-align: middle;\n    }\n\n    .dataframe tbody tr th {\n        vertical-align: top;\n    }\n\n    .dataframe thead th {\n        text-align: right;\n    }\n</style>\n<table border=\"1\" class=\"dataframe\">\n  <thead>\n    <tr style=\"text-align: right;\">\n      <th></th>\n      <th>cf_preds</th>\n    </tr>\n  </thead>\n  <tbody>\n    <tr>\n      <th>0</th>\n      <td>-0.144321</td>\n    </tr>\n    <tr>\n      <th>1</th>\n      <td>-0.145304</td>\n    </tr>\n    <tr>\n      <th>2</th>\n      <td>-0.136022</td>\n    </tr>\n    <tr>\n      <th>3</th>\n      <td>-0.154283</td>\n    </tr>\n    <tr>\n      <th>4</th>\n      <td>-0.111261</td>\n    </tr>\n    <tr>\n      <th>...</th>\n      <td>...</td>\n    </tr>\n    <tr>\n      <th>3936</th>\n      <td>-0.153458</td>\n    </tr>\n    <tr>\n      <th>3937</th>\n      <td>-0.123807</td>\n    </tr>\n    <tr>\n      <th>3938</th>\n      <td>-0.112349</td>\n    </tr>\n    <tr>\n      <th>3939</th>\n      <td>-0.091624</td>\n    </tr>\n    <tr>\n      <th>3940</th>\n      <td>-0.110394</td>\n    </tr>\n  </tbody>\n</table>\n<p>3941 rows × 1 columns</p>\n</div>"
     },
     "execution_count": 8,
     "metadata": {},
     "output_type": "execute_result"
    }
   ],
   "source": [
    "cf_preds = causal_forest.predict(X=imp_xs)\n",
    "cf_preds_df = pd.DataFrame(data=cf_preds, columns=[\"cf_preds\"])\n",
    "cf_preds_df"
   ],
   "metadata": {
    "collapsed": false
   }
  },
  {
   "cell_type": "code",
   "execution_count": 9,
   "outputs": [
    {
     "data": {
      "text/plain": "          cf_preds\ncount  3941.000000\nmean     -0.097536\nstd       0.032933\nmin      -0.233106\n25%      -0.116659\n50%      -0.091033\n75%      -0.073437\nmax       0.006188",
      "text/html": "<div>\n<style scoped>\n    .dataframe tbody tr th:only-of-type {\n        vertical-align: middle;\n    }\n\n    .dataframe tbody tr th {\n        vertical-align: top;\n    }\n\n    .dataframe thead th {\n        text-align: right;\n    }\n</style>\n<table border=\"1\" class=\"dataframe\">\n  <thead>\n    <tr style=\"text-align: right;\">\n      <th></th>\n      <th>cf_preds</th>\n    </tr>\n  </thead>\n  <tbody>\n    <tr>\n      <th>count</th>\n      <td>3941.000000</td>\n    </tr>\n    <tr>\n      <th>mean</th>\n      <td>-0.097536</td>\n    </tr>\n    <tr>\n      <th>std</th>\n      <td>0.032933</td>\n    </tr>\n    <tr>\n      <th>min</th>\n      <td>-0.233106</td>\n    </tr>\n    <tr>\n      <th>25%</th>\n      <td>-0.116659</td>\n    </tr>\n    <tr>\n      <th>50%</th>\n      <td>-0.091033</td>\n    </tr>\n    <tr>\n      <th>75%</th>\n      <td>-0.073437</td>\n    </tr>\n    <tr>\n      <th>max</th>\n      <td>0.006188</td>\n    </tr>\n  </tbody>\n</table>\n</div>"
     },
     "execution_count": 9,
     "metadata": {},
     "output_type": "execute_result"
    }
   ],
   "source": [
    "cf_preds_df.describe()"
   ],
   "metadata": {
    "collapsed": false
   }
  },
  {
   "cell_type": "code",
   "execution_count": 12,
   "outputs": [
    {
     "data": {
      "text/plain": "0.9997462572951028"
     },
     "execution_count": 12,
     "metadata": {},
     "output_type": "execute_result"
    }
   ],
   "source": [
    "cf_preds_neg = list(map(lambda x: 1 if x < 0 else 0, cf_preds))\n",
    "np.mean(cf_preds_neg)\n",
    "\n",
    "# Causal forest predicted negative CATE in 99% of samples"
   ],
   "metadata": {
    "collapsed": false
   }
  },
  {
   "cell_type": "code",
   "execution_count": 65,
   "outputs": [],
   "source": [
    "def predict_ite_causal_forest(forest_model, data):\n",
    "    \"\"\"\n",
    "    Predicts ITEs using causal forest\n",
    "    :param forest_model: the causal forest model, created using pickle.load()\n",
    "    :param data: pandas dataframe with RCT data, created by for example pandas.read_csv(\"filename\", index_col=0)\n",
    "    :return: Predicted ITEs\n",
    "    \"\"\"\n",
    "\n",
    "    xs = data.drop(columns=[\"peep_regime\", \"mort_28\", \"id\"])\n",
    "    xs.loc[xs[\"sex\"] == \"M\", \"sex\"] = 0\n",
    "    xs.loc[xs[\"sex\"] == \"F\", \"sex\"] = 1\n",
    "    xs_columns = xs.columns\n",
    "\n",
    "    norm_xs = (xs - xs.mean())/xs.std()\n",
    "\n",
    "    imputer = KNNImputer()\n",
    "    imp_xs = imputer.fit_transform(norm_xs)\n",
    "    imp_xs = pd.DataFrame(data=imp_xs, columns=xs_columns)\n",
    "\n",
    "    selected_columns = [\"age\", \"weight\", \"pf_ratio\", \"po2\", \"pco2\", \"driving_pressure\", \"fio2\", \"minute_volume\", \"plateau_pressure\"]\n",
    "    imp_xs = imp_xs[selected_columns]\n",
    "\n",
    "    return forest_model.predict(X=imp_xs)"
   ],
   "metadata": {
    "collapsed": false
   }
  },
  {
   "cell_type": "code",
   "execution_count": 68,
   "outputs": [],
   "source": [
    "def predict_ite_s_learner(s_learner_model, data):\n",
    "    \"\"\"\n",
    "    Predicts ITEs using S-learner\n",
    "    :param s_learner_model: the S-learner model, created using pickle.load()\n",
    "    :param data: pandas dataframe with RCT data, created by for example pandas.read_csv(\"filename\", index_col=0)\n",
    "    :return: Predicted ITEs\n",
    "    \"\"\"\n",
    "\n",
    "    xs = data.drop(columns=[\"peep_regime\", \"mort_28\", \"id\"])\n",
    "    xs.loc[xs[\"sex\"] == \"M\", \"sex\"] = 0\n",
    "    xs.loc[xs[\"sex\"] == \"F\", \"sex\"] = 1\n",
    "    xs_columns = xs.columns\n",
    "\n",
    "    norm_xs = (xs - xs.mean())/xs.std()\n",
    "\n",
    "    imputer = KNNImputer()\n",
    "    imp_xs = imputer.fit_transform(norm_xs)\n",
    "    imp_xs = pd.DataFrame(data=imp_xs, columns=xs_columns)\n",
    "\n",
    "    selected_columns = [\"age\", \"weight\", \"pf_ratio\", \"po2\", \"pco2\", \"driving_pressure\", \"fio2\", \"minute_volume\", \"plateau_pressure\"]\n",
    "    imp_xs = imp_xs[selected_columns]\n",
    "\n",
    "    return s_learner_model.predict(imp_xs.assign(**{\"W\": 1})) - s_learner_model.predict(imp_xs.assign(**{\"W\": 0}))"
   ],
   "metadata": {
    "collapsed": false
   }
  },
  {
   "cell_type": "code",
   "execution_count": 71,
   "outputs": [],
   "source": [
    "def predict_ite_t_learner(t_learner_model_0, t_learner_model_1, data):\n",
    "    \"\"\"\n",
    "    Predicts ITEs using S-learner\n",
    "    :param t_learner_model_0: the T-learner base model for Y_0, created using pickle.load()\n",
    "    :param t_learner_model_1: the T-learner base model for Y_1, created using pickle.load()\n",
    "    :param data: pandas dataframe with RCT data, created by for example pandas.read_csv(\"filename\", index_col=0)\n",
    "    :return: Predicted ITEs\n",
    "    \"\"\"\n",
    "\n",
    "    xs = data.drop(columns=[\"peep_regime\", \"mort_28\", \"id\"])\n",
    "    xs.loc[xs[\"sex\"] == \"M\", \"sex\"] = 0\n",
    "    xs.loc[xs[\"sex\"] == \"F\", \"sex\"] = 1\n",
    "    xs_columns = xs.columns\n",
    "\n",
    "    norm_xs = (xs - xs.mean())/xs.std()\n",
    "\n",
    "    imputer = KNNImputer()\n",
    "    imp_xs = imputer.fit_transform(norm_xs)\n",
    "    imp_xs = pd.DataFrame(data=imp_xs, columns=xs_columns)\n",
    "\n",
    "    selected_columns = [\"age\", \"weight\", \"pf_ratio\", \"po2\", \"pco2\", \"driving_pressure\", \"fio2\", \"minute_volume\", \"plateau_pressure\"]\n",
    "    imp_xs = imp_xs[selected_columns]\n",
    "\n",
    "    return t_learner_model_1.predict(imp_xs) - t_learner_model_0.predict(imp_xs)"
   ],
   "metadata": {
    "collapsed": false
   }
  },
  {
   "cell_type": "markdown",
   "source": [
    "# Evaluate"
   ],
   "metadata": {
    "collapsed": false
   }
  },
  {
   "cell_type": "code",
   "execution_count": 2,
   "outputs": [
    {
     "data": {
      "text/plain": "      mort_28  peep_regime  s_learner_ite  t_learner_ite  causal_forest_ite\n0         0.0          1.0      -0.032377      -0.132028          -0.082567\n1         0.0          0.0      -0.031160      -0.238510          -0.126796\n2         0.0          0.0      -0.011900      -0.115694          -0.057679\n3         0.0          0.0      -0.039956      -0.267639          -0.121259\n4         0.0          1.0      -0.020258      -0.176787          -0.103644\n...       ...          ...            ...            ...                ...\n2294      0.0          1.0      -0.044273      -0.246337          -0.152315\n2295      0.0          1.0      -0.014671      -0.077701          -0.080819\n2296      1.0          0.0      -0.036225      -0.261443          -0.100296\n2297      0.0          1.0      -0.023214      -0.131455          -0.070813\n2298      0.0          0.0      -0.047659      -0.158389          -0.126927\n\n[2299 rows x 5 columns]",
      "text/html": "<div>\n<style scoped>\n    .dataframe tbody tr th:only-of-type {\n        vertical-align: middle;\n    }\n\n    .dataframe tbody tr th {\n        vertical-align: top;\n    }\n\n    .dataframe thead th {\n        text-align: right;\n    }\n</style>\n<table border=\"1\" class=\"dataframe\">\n  <thead>\n    <tr style=\"text-align: right;\">\n      <th></th>\n      <th>mort_28</th>\n      <th>peep_regime</th>\n      <th>s_learner_ite</th>\n      <th>t_learner_ite</th>\n      <th>causal_forest_ite</th>\n    </tr>\n  </thead>\n  <tbody>\n    <tr>\n      <th>0</th>\n      <td>0.0</td>\n      <td>1.0</td>\n      <td>-0.032377</td>\n      <td>-0.132028</td>\n      <td>-0.082567</td>\n    </tr>\n    <tr>\n      <th>1</th>\n      <td>0.0</td>\n      <td>0.0</td>\n      <td>-0.031160</td>\n      <td>-0.238510</td>\n      <td>-0.126796</td>\n    </tr>\n    <tr>\n      <th>2</th>\n      <td>0.0</td>\n      <td>0.0</td>\n      <td>-0.011900</td>\n      <td>-0.115694</td>\n      <td>-0.057679</td>\n    </tr>\n    <tr>\n      <th>3</th>\n      <td>0.0</td>\n      <td>0.0</td>\n      <td>-0.039956</td>\n      <td>-0.267639</td>\n      <td>-0.121259</td>\n    </tr>\n    <tr>\n      <th>4</th>\n      <td>0.0</td>\n      <td>1.0</td>\n      <td>-0.020258</td>\n      <td>-0.176787</td>\n      <td>-0.103644</td>\n    </tr>\n    <tr>\n      <th>...</th>\n      <td>...</td>\n      <td>...</td>\n      <td>...</td>\n      <td>...</td>\n      <td>...</td>\n    </tr>\n    <tr>\n      <th>2294</th>\n      <td>0.0</td>\n      <td>1.0</td>\n      <td>-0.044273</td>\n      <td>-0.246337</td>\n      <td>-0.152315</td>\n    </tr>\n    <tr>\n      <th>2295</th>\n      <td>0.0</td>\n      <td>1.0</td>\n      <td>-0.014671</td>\n      <td>-0.077701</td>\n      <td>-0.080819</td>\n    </tr>\n    <tr>\n      <th>2296</th>\n      <td>1.0</td>\n      <td>0.0</td>\n      <td>-0.036225</td>\n      <td>-0.261443</td>\n      <td>-0.100296</td>\n    </tr>\n    <tr>\n      <th>2297</th>\n      <td>0.0</td>\n      <td>1.0</td>\n      <td>-0.023214</td>\n      <td>-0.131455</td>\n      <td>-0.070813</td>\n    </tr>\n    <tr>\n      <th>2298</th>\n      <td>0.0</td>\n      <td>0.0</td>\n      <td>-0.047659</td>\n      <td>-0.158389</td>\n      <td>-0.126927</td>\n    </tr>\n  </tbody>\n</table>\n<p>2299 rows × 5 columns</p>\n</div>"
     },
     "execution_count": 2,
     "metadata": {},
     "output_type": "execute_result"
    }
   ],
   "source": [
    "rct_data = pd.read_csv(\"rct_predictions.csv\", index_col=0)\n",
    "rct_data"
   ],
   "metadata": {
    "collapsed": false
   }
  },
  {
   "cell_type": "code",
   "execution_count": 3,
   "outputs": [
    {
     "data": {
      "text/plain": "           mort_28  peep_regime  s_learner_ite  t_learner_ite  \\\ncount  2299.000000  2299.000000    2299.000000    2299.000000   \nmean      0.282297     0.494128      -0.031940      -0.182564   \nstd       0.450215     0.500074       0.011809       0.073184   \nmin       0.000000     0.000000      -0.065995      -0.394339   \n25%       0.000000     0.000000      -0.040468      -0.236360   \n50%       0.000000     0.000000      -0.032494      -0.177727   \n75%       1.000000     1.000000      -0.023975      -0.127288   \nmax       1.000000     1.000000       0.004670       0.010388   \n\n       causal_forest_ite  \ncount        2299.000000  \nmean           -0.112248  \nstd             0.034080  \nmin            -0.206514  \n25%            -0.136610  \n50%            -0.108877  \n75%            -0.085305  \nmax            -0.022781  ",
      "text/html": "<div>\n<style scoped>\n    .dataframe tbody tr th:only-of-type {\n        vertical-align: middle;\n    }\n\n    .dataframe tbody tr th {\n        vertical-align: top;\n    }\n\n    .dataframe thead th {\n        text-align: right;\n    }\n</style>\n<table border=\"1\" class=\"dataframe\">\n  <thead>\n    <tr style=\"text-align: right;\">\n      <th></th>\n      <th>mort_28</th>\n      <th>peep_regime</th>\n      <th>s_learner_ite</th>\n      <th>t_learner_ite</th>\n      <th>causal_forest_ite</th>\n    </tr>\n  </thead>\n  <tbody>\n    <tr>\n      <th>count</th>\n      <td>2299.000000</td>\n      <td>2299.000000</td>\n      <td>2299.000000</td>\n      <td>2299.000000</td>\n      <td>2299.000000</td>\n    </tr>\n    <tr>\n      <th>mean</th>\n      <td>0.282297</td>\n      <td>0.494128</td>\n      <td>-0.031940</td>\n      <td>-0.182564</td>\n      <td>-0.112248</td>\n    </tr>\n    <tr>\n      <th>std</th>\n      <td>0.450215</td>\n      <td>0.500074</td>\n      <td>0.011809</td>\n      <td>0.073184</td>\n      <td>0.034080</td>\n    </tr>\n    <tr>\n      <th>min</th>\n      <td>0.000000</td>\n      <td>0.000000</td>\n      <td>-0.065995</td>\n      <td>-0.394339</td>\n      <td>-0.206514</td>\n    </tr>\n    <tr>\n      <th>25%</th>\n      <td>0.000000</td>\n      <td>0.000000</td>\n      <td>-0.040468</td>\n      <td>-0.236360</td>\n      <td>-0.136610</td>\n    </tr>\n    <tr>\n      <th>50%</th>\n      <td>0.000000</td>\n      <td>0.000000</td>\n      <td>-0.032494</td>\n      <td>-0.177727</td>\n      <td>-0.108877</td>\n    </tr>\n    <tr>\n      <th>75%</th>\n      <td>1.000000</td>\n      <td>1.000000</td>\n      <td>-0.023975</td>\n      <td>-0.127288</td>\n      <td>-0.085305</td>\n    </tr>\n    <tr>\n      <th>max</th>\n      <td>1.000000</td>\n      <td>1.000000</td>\n      <td>0.004670</td>\n      <td>0.010388</td>\n      <td>-0.022781</td>\n    </tr>\n  </tbody>\n</table>\n</div>"
     },
     "execution_count": 3,
     "metadata": {},
     "output_type": "execute_result"
    }
   ],
   "source": [
    "rct_data.describe()"
   ],
   "metadata": {
    "collapsed": false
   }
  },
  {
   "cell_type": "code",
   "execution_count": 4,
   "outputs": [],
   "source": [
    "s_learner_ite = rct_data[\"s_learner_ite\"].to_list()\n",
    "t_learner_ite = rct_data[\"t_learner_ite\"].to_list()\n",
    "causal_forest_ite = rct_data[\"causal_forest_ite\"].to_list()\n",
    "real_w = rct_data[\"peep_regime\"].to_list()\n",
    "real_y = list(map(lambda x: 1 if x == 0 else 0, rct_data[\"mort_28\"]))"
   ],
   "metadata": {
    "collapsed": false
   }
  },
  {
   "cell_type": "code",
   "execution_count": 5,
   "outputs": [
    {
     "name": "stdout",
     "output_type": "stream",
     "text": [
      "ATE:\n",
      "Real: 0.0255607159725334\n",
      "S-learner: -0.031940088272411356\n",
      "T-learner: -0.1825642905984735\n",
      "Causal forest: -0.11224761885434688\n"
     ]
    }
   ],
   "source": [
    "observed_data = pd.DataFrame.from_dict({\"W\": real_w, \"Y\": real_y}, orient=\"columns\")\n",
    "\n",
    "print(\"ATE:\")\n",
    "print(f\"Real: {np.mean(observed_data.query('W==1')['Y']) - np.mean(observed_data.query('W==0')['Y'])}\")\n",
    "print(f\"S-learner: {np.mean(s_learner_ite)}\")\n",
    "print(f\"T-learner: {np.mean(t_learner_ite)}\")\n",
    "print(f\"Causal forest: {np.mean(causal_forest_ite)}\")"
   ],
   "metadata": {
    "collapsed": false
   }
  },
  {
   "cell_type": "code",
   "execution_count": 6,
   "outputs": [
    {
     "data": {
      "text/plain": "<sklift.viz.base.UpliftCurveDisplay at 0x26a376fc410>"
     },
     "execution_count": 6,
     "metadata": {},
     "output_type": "execute_result"
    },
    {
     "data": {
      "text/plain": "<Figure size 640x480 with 1 Axes>",
      "image/png": "[encoded data removed]"
     },
     "metadata": {},
     "output_type": "display_data"
    }
   ],
   "source": [
    "fig, ax = plt.subplots(1, 1)\n",
    "plot_qini_curve(y_true=real_y, uplift=s_learner_ite, treatment=real_w, perfect=False, random=False, name=\"S-learner\", ax=ax)\n",
    "\n",
    "plot_qini_curve(y_true=real_y, uplift=t_learner_ite, treatment=real_w, perfect=False, random=False, name=\"T-learner\", ax=ax)\n",
    "\n",
    "plot_qini_curve(y_true=real_y, uplift=causal_forest_ite, treatment=real_w, perfect=False, name=\"Causal Forest\", ax=ax)"
   ],
   "metadata": {
    "collapsed": false
   }
  },
  {
   "cell_type": "code",
   "execution_count": 7,
   "outputs": [
    {
     "name": "stdout",
     "output_type": "stream",
     "text": [
      "Qini AUC score:\n",
      "S-learner: 0.005152485946702577\n",
      "T-learner: 0.026167570651830077\n",
      "Causal forest: 0.006816264770338604\n"
     ]
    }
   ],
   "source": [
    "print(\"Qini AUC score:\")\n",
    "print(f\"S-learner: {qini_auc_score(y_true=real_y, uplift=s_learner_ite, treatment=real_w)}\")\n",
    "print(f\"T-learner: {qini_auc_score(y_true=real_y, uplift=t_learner_ite, treatment=real_w)}\")\n",
    "print(f\"Causal forest: {qini_auc_score(y_true=real_y, uplift=causal_forest_ite, treatment=real_w)}\")"
   ],
   "metadata": {
    "collapsed": false
   }
  }
 ],
 "metadata": {
  "kernelspec": {
   "display_name": "Python 3",
   "language": "python",
   "name": "python3"
  },
  "language_info": {
   "codemirror_mode": {
    "name": "ipython",
    "version": 2
   },
   "file_extension": ".py",
   "mimetype": "text/x-python",
   "name": "python",
   "nbconvert_exporter": "python",
   "pygments_lexer": "ipython2",
   "version": "2.7.6"
  }
 },
 "nbformat": 4,
 "nbformat_minor": 0
}
